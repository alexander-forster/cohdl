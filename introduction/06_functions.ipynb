{
 "cells": [
  {
   "attachments": {},
   "cell_type": "markdown",
   "metadata": {},
   "source": [
    "# Functions\n",
    "\n",
    "CoHDL treats functions similar to macros in C-like programming languages. They are not turned into VHDL functions and instead inlined at their call site. That makes it possible to use arbitrary Python objects as function arguments. The same function can be called with different argument types to produce different VHDL representations.\n",
    "\n",
    "Function arguments can also have default values. Both positional and keyword arguments are supported."
   ]
  },
  {
   "cell_type": "code",
   "execution_count": null,
   "metadata": {},
   "outputs": [],
   "source": [
    "from cohdl import Entity, Port, Signed\n",
    "from cohdl import std\n",
    "\n",
    "def add(a, b=1):\n",
    "    return a + b\n",
    "\n",
    "class ExampleFn(Entity):\n",
    "    inp_a = Port.input(Signed[16])\n",
    "    inp_b = Port.input(Signed[16])\n",
    "\n",
    "    sum_1 = Port.output(Signed[16])\n",
    "    sum_2 = Port.output(Signed[16])\n",
    "    sum_3 = Port.output(Signed[16])\n",
    "\n",
    "    def architecture(self):\n",
    "        @std.concurrent\n",
    "        def logic():\n",
    "            # functions are inlined at their call site\n",
    "            self.sum_1 <<= add(self.inp_a, self.inp_b)\n",
    "            # both positional and keyword arguments are supported\n",
    "            self.sum_2 <<= add(b=self.inp_b, a=self.inp_a)\n",
    "            # so are defaulted arguments\n",
    "            self.sum_3 <<= add(self.inp_a)\n",
    "\n",
    "print(std.VhdlCompiler.to_string(ExampleFn))"
   ]
  },
  {
   "attachments": {},
   "cell_type": "markdown",
   "metadata": {},
   "source": [
    "\n",
    "Functions can also be recursive as long as the maximal recursion depth is known at compile time. Functions with a variable number of arguments using the `*arg` or `**kwarg` syntax are supported."
   ]
  },
  {
   "cell_type": "code",
   "execution_count": null,
   "metadata": {},
   "outputs": [],
   "source": [
    "from cohdl import Entity, Port, Signed\n",
    "from cohdl import std\n",
    "\n",
    "# functions can have a variable number of arguments\n",
    "def add_all(first, *rest):\n",
    "    # compile time recursion is supported\n",
    "    if len(rest) == 0:\n",
    "        return first\n",
    "    else:\n",
    "        return first + add_all(*rest)\n",
    "\n",
    "class ExampleFn(Entity):\n",
    "    inp_a = Port.input(Signed[16])\n",
    "    inp_b = Port.input(Signed[16])\n",
    "    inp_c = Port.input(Signed[16])\n",
    "    inp_d = Port.input(Signed[16])\n",
    "\n",
    "    sum_1 = Port.output(Signed[16])\n",
    "    sum_2 = Port.output(Signed[16])\n",
    "\n",
    "    def architecture(self):\n",
    "        all_inputs = [self.inp_a, self.inp_b, self.inp_c, self.inp_d]\n",
    "\n",
    "        @std.concurrent\n",
    "        def logic():\n",
    "            self.sum_1 <<= add_all(self.inp_a, self.inp_b, self.inp_c, self.inp_d)\n",
    "\n",
    "            # unpacking lists is supported\n",
    "            # this is equivalent to the previous call\n",
    "            self.sum_2 <<= add_all(*all_inputs)\n",
    "\n",
    "print(std.VhdlCompiler.to_string(ExampleFn))"
   ]
  },
  {
   "attachments": {},
   "cell_type": "markdown",
   "metadata": {},
   "source": [
    "## Callback functions\n",
    "\n",
    "CoHDL functions can take arguments of arbitrary types including other functions.\n"
   ]
  },
  {
   "cell_type": "code",
   "execution_count": null,
   "metadata": {},
   "outputs": [],
   "source": [
    "from cohdl import Entity, Port, Signed\n",
    "from cohdl import std\n",
    "\n",
    "def and_op(a, b):\n",
    "    return a & b\n",
    "\n",
    "def or_op(a, b):\n",
    "    return a | b\n",
    "\n",
    "# generalization of add_all from the previous example\n",
    "def binary_fold(binop, first, *rest):\n",
    "    if len(rest) == 0:\n",
    "        return first\n",
    "    else:\n",
    "        return binop(first, binary_fold(binop, *rest))\n",
    "\n",
    "class ExampleFn(Entity):\n",
    "    inp_a = Port.input(Signed[16])\n",
    "    inp_b = Port.input(Signed[16])\n",
    "    inp_c = Port.input(Signed[16])\n",
    "    inp_d = Port.input(Signed[16])\n",
    "\n",
    "    out_and = Port.output(Signed[16])\n",
    "    out_or = Port.output(Signed[16])\n",
    "\n",
    "    def architecture(self):\n",
    "        all_inputs = [self.inp_a, self.inp_b, self.inp_c, self.inp_d]\n",
    "\n",
    "        @std.concurrent\n",
    "        def logic():\n",
    "            self.out_and <<= binary_fold(and_op, *all_inputs)\n",
    "            self.out_or <<= binary_fold(or_op, *all_inputs)\n",
    "\n",
    "print(std.VhdlCompiler.to_string(ExampleFn))"
   ]
  }
 ],
 "metadata": {
  "kernelspec": {
   "display_name": "cohdl_venv",
   "language": "python",
   "name": "python3"
  },
  "language_info": {
   "codemirror_mode": {
    "name": "ipython",
    "version": 3
   },
   "file_extension": ".py",
   "mimetype": "text/x-python",
   "name": "python",
   "nbconvert_exporter": "python",
   "pygments_lexer": "ipython3",
   "version": "3.11.1 (main, Dec  7 2022, 00:00:00) [GCC 12.2.1 20221121 (Red Hat 12.2.1-4)]"
  },
  "orig_nbformat": 4,
  "vscode": {
   "interpreter": {
    "hash": "382de5f4f49c2aefd568eaa8cac1000c67ae8fef983dc014d1535fefa37c672c"
   }
  }
 },
 "nbformat": 4,
 "nbformat_minor": 2
}
