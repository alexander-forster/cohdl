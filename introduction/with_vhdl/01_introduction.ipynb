{
 "cells": [
  {
   "attachments": {},
   "cell_type": "markdown",
   "metadata": {},
   "source": [
    "# Introduction"
   ]
  },
  {
   "attachments": {},
   "cell_type": "markdown",
   "metadata": {},
   "source": [
    "CoHDL is a Python based hardware definition language. It turns Python code into VHDL by inspecting and translating the abstract syntax tree. The core of the language is similar to VHDL. Designs are made up of concurrent and sequential contexts (processes) and use signals/variables to store state and communicate with each other.\n",
    "\n",
    "The following examples give a quick overview over what CoHDL designs look like. The used functions and language constructs are described in more detail in the other notebooks in this directory."
   ]
  },
  {
   "attachments": {},
   "cell_type": "markdown",
   "metadata": {},
   "source": [
    "---\n",
    "### Example 1\n",
    "\n",
    "This first example defines an inverter circuit. It takes a single bit input and produces the inverse value on the output port."
   ]
  },
  {
   "cell_type": "code",
   "execution_count": 5,
   "metadata": {},
   "outputs": [],
   "source": [
    "from cohdl import Entity, Port, Bit\n",
    "from cohdl import std\n",
    "\n",
    "class Inverter(Entity):\n",
    "    input = Port.input(Bit)\n",
    "    output = Port.output(Bit)\n",
    "\n",
    "    def architecture(self):\n",
    "        @std.concurrent\n",
    "        def logic():\n",
    "            self.output <<= ~self.input"
   ]
  },
  {
   "attachments": {},
   "cell_type": "markdown",
   "metadata": {},
   "source": [
    "The parts of this design are described in the comments of the following code block."
   ]
  },
  {
   "cell_type": "code",
   "execution_count": 6,
   "metadata": {},
   "outputs": [
    {
     "name": "stdout",
     "output_type": "stream",
     "text": [
      "library ieee;\n",
      "use ieee.std_logic_1164.all;\n",
      "use ieee.numeric_std.all;\n",
      "\n",
      "\n",
      "entity Inverter is\n",
      "  port (\n",
      "    input : in std_logic;\n",
      "    output : out std_logic\n",
      "    );\n",
      "end Inverter;\n",
      "\n",
      "\n",
      "architecture arch_Inverter of Inverter is\n",
      "  function cohdl_bool_to_std_logic(inp: boolean) return std_logic is\n",
      "  begin\n",
      "    if inp then\n",
      "      return('1');\n",
      "    else\n",
      "      return('0');\n",
      "    end if;\n",
      "  end function cohdl_bool_to_std_logic;\n",
      "  signal buffer_output : std_logic;\n",
      "  signal temp : std_logic;\n",
      "begin\n",
      "  \n",
      "  -- CONCURRENT BLOCK (buffer assignment)\n",
      "  output <= buffer_output;\n",
      "  \n",
      "  -- CONCURRENT BLOCK (logic)\n",
      "  temp <= not (input);\n",
      "  buffer_output <= temp;\n",
      "end architecture arch_Inverter;\n"
     ]
    }
   ],
   "source": [
    "# the cohdl module provides magic builtin types\n",
    "from cohdl import Entity, Port, Bit\n",
    "\n",
    "# the std module contains convenience functions/classes that wrap cohdl builtins\n",
    "from cohdl import std\n",
    "\n",
    "# inheriting from cohdl.Entity turns the class Inverter\n",
    "# into a synthesizable entity\n",
    "class Inverter(Entity):\n",
    "    # ports are defined as class members\n",
    "    # using the methods input/output/inout of the cohdl builtin Port\n",
    "    # the argument defines the type of the port\n",
    "    input = Port.input(Bit)\n",
    "    output = Port.output(Bit)\n",
    "\n",
    "    # a method named 'architecture' is used to\n",
    "    # define the entities behavior\n",
    "    def architecture(self):\n",
    "        # arbitrary python code\n",
    "\n",
    "        # functions decorated with std.concurrent or std.sequential\n",
    "        # are translated to a hdl representation\n",
    "        @std.concurrent\n",
    "        def logic():\n",
    "            # synthesizable subset of python\n",
    "\n",
    "            # the left shift assignment operator\n",
    "            # is used for signal assignments\n",
    "            self.output <<= ~self.input\n",
    "\n",
    "# convert the entity to VHDL and print it to stdout\n",
    "print(std.VhdlCompiler.to_string(Inverter))\n",
    "# use VhdlCompiler.to_dir to write the resulting VHDL representation\n",
    "# to the file system instead of stdout\n",
    "# std.VhdlCompiler.to_dir(Inverter, \"output_dir\")\n"
   ]
  },
  {
   "attachments": {},
   "cell_type": "markdown",
   "metadata": {},
   "source": [
    "---\n",
    "### Example 2\n",
    "\n",
    "The second example demonstrates sequential logic by implementing a simple LED blinker design."
   ]
  },
  {
   "cell_type": "code",
   "execution_count": 7,
   "metadata": {},
   "outputs": [
    {
     "name": "stdout",
     "output_type": "stream",
     "text": [
      "library ieee;\n",
      "use ieee.std_logic_1164.all;\n",
      "use ieee.numeric_std.all;\n",
      "\n",
      "\n",
      "entity Blink is\n",
      "  port (\n",
      "    clk : in std_logic;\n",
      "    led : out std_logic\n",
      "    );\n",
      "end Blink;\n",
      "\n",
      "\n",
      "architecture arch_Blink of Blink is\n",
      "  function cohdl_bool_to_std_logic(inp: boolean) return std_logic is\n",
      "  begin\n",
      "    if inp then\n",
      "      return('1');\n",
      "    else\n",
      "      return('0');\n",
      "    end if;\n",
      "  end function cohdl_bool_to_std_logic;\n",
      "  signal buffer_led : std_logic;\n",
      "  signal counter : unsigned(31 downto 0) := unsigned'(\"00000000000000000000000000000000\");\n",
      "begin\n",
      "  \n",
      "  -- CONCURRENT BLOCK (buffer assignment)\n",
      "  led <= buffer_led;\n",
      "  \n",
      "\n",
      "  blink_led: process(clk)\n",
      "    variable temp : boolean;\n",
      "    variable temp_1 : boolean;\n",
      "    variable temp_2 : std_logic;\n",
      "    variable temp_3 : unsigned(31 downto 0);\n",
      "  begin\n",
      "    if rising_edge(clk) then\n",
      "      temp := (counter = 0);\n",
      "      temp_1 := temp;\n",
      "      if temp_1 then\n",
      "        counter <= unsigned'(\"00000101111101011110000100000000\");\n",
      "        temp_2 := not (buffer_led);\n",
      "        buffer_led <= temp_2;\n",
      "      else\n",
      "        temp_3 := (counter) - (1);\n",
      "        counter <= temp_3;\n",
      "      end if;\n",
      "    end if;\n",
      "  end process;\n",
      "end architecture arch_Blink;\n"
     ]
    }
   ],
   "source": [
    "from cohdl import Entity, Port, Bit, Unsigned, Signal\n",
    "from cohdl import std\n",
    "\n",
    "class Blink(Entity):\n",
    "    clk = Port.input(Bit)\n",
    "    led = Port.output(Bit)\n",
    "\n",
    "    def architecture(self):\n",
    "        MAX_COUNTER = 100_000_000\n",
    "        counter = Signal[Unsigned[31:0]](0)\n",
    "\n",
    "        # std.Clock is a helper type that wraps clock signals\n",
    "        # when used like this the sequential function\n",
    "        # is 'called' on every rising edge\n",
    "        @std.sequential(std.Clock(self.clk))\n",
    "        def blink_led():\n",
    "            if counter == 0:\n",
    "                # assigning to the .next property is equivalent\n",
    "                # to the '<<=' operator\n",
    "                counter.next = MAX_COUNTER\n",
    "                # invert the led when counter reaches zero\n",
    "                self.led <<= ~self.led\n",
    "            else:\n",
    "                counter.next = counter - 1\n",
    "\n",
    "print(std.VhdlCompiler.to_string(Blink))"
   ]
  },
  {
   "attachments": {},
   "cell_type": "markdown",
   "metadata": {},
   "source": [
    "---\n",
    "### Example 3\n",
    "\n",
    "Coroutines are functions, that can be suspended and resumed. One of the core features of CoHDL is the ability to translate async/await coroutines into VHDL state machines. This translation process is deterministic and allows clock accurate descriptions of sequential logic. The following example demonstrates this by implementing a data transaction. The same mechanism can be used to abstract more complex interfaces such as AXI."
   ]
  },
  {
   "attachments": {},
   "cell_type": "markdown",
   "metadata": {},
   "source": [
    "The example defines a class `Interface`. It wraps the data and hand shake signals of a simple interface and provides a method `receive`.\n",
    "The Python keyword `async` marks the method as a coroutine. It implements the following logic:\n",
    "\n",
    "* wait until the `valid` signal becomes high\n",
    "* set the acknowledge signal high for one clock period (`^=` operator)\n",
    "* return the current state of the `data` signal\n",
    "\n",
    "The caller of `receive` can use the coroutine without knowing the details of the underlying interface."
   ]
  },
  {
   "cell_type": "code",
   "execution_count": 8,
   "metadata": {},
   "outputs": [
    {
     "name": "stdout",
     "output_type": "stream",
     "text": [
      "library ieee;\n",
      "use ieee.std_logic_1164.all;\n",
      "use ieee.numeric_std.all;\n",
      "\n",
      "\n",
      "entity CoroutineExample is\n",
      "  port (\n",
      "    clk : in std_logic;\n",
      "    data_in : in std_logic_vector(31 downto 0);\n",
      "    valid : in std_logic;\n",
      "    ack : out std_logic;\n",
      "    data_out : out std_logic_vector(31 downto 0)\n",
      "    );\n",
      "end CoroutineExample;\n",
      "\n",
      "\n",
      "architecture arch_CoroutineExample of CoroutineExample is\n",
      "  function cohdl_bool_to_std_logic(inp: boolean) return std_logic is\n",
      "  begin\n",
      "    if inp then\n",
      "      return('1');\n",
      "    else\n",
      "      return('0');\n",
      "    end if;\n",
      "  end function cohdl_bool_to_std_logic;\n",
      "  signal buffer_ack : std_logic := '0';\n",
      "  signal buffer_data_out : std_logic_vector(31 downto 0);\n",
      "begin\n",
      "  \n",
      "  -- CONCURRENT BLOCK (buffer assignment)\n",
      "  ack <= buffer_ack;\n",
      "  data_out <= buffer_data_out;\n",
      "  \n",
      "\n",
      "  process_receive: process(clk)\n",
      "    variable temp : std_logic_vector(31 downto 0);\n",
      "  begin\n",
      "    if rising_edge(clk) then\n",
      "      buffer_ack <= '0';\n",
      "      if valid = '1' then\n",
      "        buffer_ack <= '1';\n",
      "        temp := data_in;\n",
      "        buffer_data_out <= temp;\n",
      "      end if;\n",
      "    end if;\n",
      "  end process;\n",
      "end architecture arch_CoroutineExample;\n"
     ]
    }
   ],
   "source": [
    "from cohdl import Entity, Port, Bit, BitVector, Temporary\n",
    "from cohdl import std\n",
    "\n",
    "class Interface:\n",
    "    def __init__(self, valid, ack, data):\n",
    "        self.valid = valid\n",
    "        self.ack = ack\n",
    "        self.data = data\n",
    "    \n",
    "    async def receive(self):\n",
    "        await self.valid\n",
    "        self.ack ^= True\n",
    "        return Temporary(self.data)\n",
    "\n",
    "class CoroutineExample(Entity):\n",
    "    clk = Port.input(Bit)\n",
    "\n",
    "    data_in = Port.input(BitVector[32])\n",
    "    valid = Port.input(Bit)\n",
    "    ack = Port.output(Bit, default=False)\n",
    "\n",
    "    data_out = Port.output(BitVector[32])\n",
    "\n",
    "    def architecture(self):\n",
    "        interface = Interface(self.valid, self.ack, self.data_in)\n",
    "\n",
    "        @std.sequential(std.Clock(self.clk))\n",
    "        async def process_receive():\n",
    "            # wait for new data and update the data_out port\n",
    "            self.data_out <<= await interface.receive()\n",
    "            # when the end of a coroutine is reached\n",
    "            # execution continues from the start (after one clock cycle)\n",
    "\n",
    "print(std.VhdlCompiler.to_string(CoroutineExample))"
   ]
  }
 ],
 "metadata": {
  "kernelspec": {
   "display_name": "venv",
   "language": "python",
   "name": "python3"
  },
  "language_info": {
   "codemirror_mode": {
    "name": "ipython",
    "version": 3
   },
   "file_extension": ".py",
   "mimetype": "text/x-python",
   "name": "python",
   "nbconvert_exporter": "python",
   "pygments_lexer": "ipython3",
   "version": "3.11.2"
  },
  "orig_nbformat": 4,
  "vscode": {
   "interpreter": {
    "hash": "60ab8bcd754584b08389d6b054437a32e700a496bfd0359bc451192bf91e662c"
   }
  }
 },
 "nbformat": 4,
 "nbformat_minor": 2
}
