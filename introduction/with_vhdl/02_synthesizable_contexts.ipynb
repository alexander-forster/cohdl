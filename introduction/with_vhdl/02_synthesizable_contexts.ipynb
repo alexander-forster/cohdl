{
 "cells": [
  {
   "attachments": {},
   "cell_type": "markdown",
   "metadata": {},
   "source": [
    "# synthesizable contexts\n",
    "\n",
    "CoHDL translates entities, by executing the architecture method as normal Python code and collecting all function definitions marked as synthesizable contexts. After returning from `architecture` CoHDL parses all found contexts and generates equivalent VHDL. There are two types of synthesizable contexts:\n",
    "\n",
    "* concurrent contexts:\n",
    "    - are decorated with `std.concurrent` (or `concurrent_context`)\n",
    "    - are translated into statements outside VHDL processes\n",
    "* sequential contexts:\n",
    "    - are decorated with `std.sequential` (or `sequential_context`)\n",
    "    - are translated into VHDL processes\n",
    "\n",
    "Footnote:\n",
    "\n",
    "`std.concurrent` and `std.sequential` are convenience wrappers and should be preferred over the underlying CoHDL builtins `concurrent_context` and `sequential_context`."
   ]
  },
  {
   "attachments": {},
   "cell_type": "markdown",
   "metadata": {},
   "source": [
    "---\n",
    "## concurrent logic\n",
    "\n",
    "The `std.concurrent` marks code that should not be part of a VHDL process. To translate the inverter example from the previous section, CoHDL performs the following steps:\n",
    "\n",
    "1. the compiler calls `architecture` as a normal Python function\n",
    "2. the `std.concurrent` decorator adds the local function `logic` to a global list of all synthesizable contexts\n",
    "3. once `architecture` returns the compiler translates all entries in that list to an internal representation\n",
    "4. the VHDL compiler backend takes this representation and turns it into VHDL (currently the only supported target language)\n",
    "5. this VHDL code is placed directly in the architecture scope (not in a process)"
   ]
  },
  {
   "cell_type": "code",
   "execution_count": 1,
   "metadata": {},
   "outputs": [
    {
     "name": "stdout",
     "output_type": "stream",
     "text": [
      "library ieee;\n",
      "use ieee.std_logic_1164.all;\n",
      "use ieee.numeric_std.all;\n",
      "\n",
      "\n",
      "entity Inverter is\n",
      "  port (\n",
      "    input : in std_logic;\n",
      "    output : out std_logic\n",
      "    );\n",
      "end Inverter;\n",
      "\n",
      "\n",
      "architecture arch_Inverter of Inverter is\n",
      "  function cohdl_bool_to_std_logic(inp: boolean) return std_logic is\n",
      "  begin\n",
      "    if inp then\n",
      "      return('1');\n",
      "    else\n",
      "      return('0');\n",
      "    end if;\n",
      "  end function cohdl_bool_to_std_logic;\n",
      "  signal buffer_output : std_logic;\n",
      "  signal temp : std_logic;\n",
      "begin\n",
      "  \n",
      "  -- CONCURRENT BLOCK (buffer assignment)\n",
      "  output <= buffer_output;\n",
      "  \n",
      "  -- CONCURRENT BLOCK (logic)\n",
      "  temp <= not (input);\n",
      "  buffer_output <= temp;\n",
      "end architecture arch_Inverter;\n"
     ]
    }
   ],
   "source": [
    "from cohdl import Entity, Port, Bit\n",
    "from cohdl import std\n",
    "\n",
    "class Inverter(Entity):\n",
    "    input = Port.input(Bit)\n",
    "    output = Port.output(Bit)\n",
    "\n",
    "    def architecture(self):\n",
    "        @std.concurrent\n",
    "        def logic():\n",
    "            self.output <<= ~self.input\n",
    "\n",
    "print(std.VhdlCompiler.to_string(Inverter))"
   ]
  },
  {
   "attachments": {},
   "cell_type": "markdown",
   "metadata": {},
   "source": [
    "---\n",
    "## sequential logic\n",
    "\n",
    "The `std.sequential` decorator works like `std.concurrent`. However the generated VHDL representation is placed in a process. The following examples show three different ways of implementing a counter that is incremented on every rising edge of a clock signal."
   ]
  },
  {
   "attachments": {},
   "cell_type": "markdown",
   "metadata": {},
   "source": [
    "### `rising_edge`\n",
    "\n",
    "CoHDL defines `rising_edge` and `falling_edge` as a magic functions, to make it possible to implement VHDL style clocked logic."
   ]
  },
  {
   "cell_type": "code",
   "execution_count": 2,
   "metadata": {},
   "outputs": [
    {
     "name": "stdout",
     "output_type": "stream",
     "text": [
      "library ieee;\n",
      "use ieee.std_logic_1164.all;\n",
      "use ieee.numeric_std.all;\n",
      "\n",
      "\n",
      "entity Counter is\n",
      "  port (\n",
      "    clk : in std_logic;\n",
      "    output : out unsigned(15 downto 0)\n",
      "    );\n",
      "end Counter;\n",
      "\n",
      "\n",
      "architecture arch_Counter of Counter is\n",
      "  function cohdl_bool_to_std_logic(inp: boolean) return std_logic is\n",
      "  begin\n",
      "    if inp then\n",
      "      return('1');\n",
      "    else\n",
      "      return('0');\n",
      "    end if;\n",
      "  end function cohdl_bool_to_std_logic;\n",
      "  signal buffer_output : unsigned(15 downto 0);\n",
      "begin\n",
      "  \n",
      "  -- CONCURRENT BLOCK (buffer assignment)\n",
      "  output <= buffer_output;\n",
      "  \n",
      "\n",
      "  process_1: process(clk, buffer_output)\n",
      "    variable temp : unsigned(15 downto 0);\n",
      "  begin\n",
      "    if rising_edge(clk) then\n",
      "      temp := (buffer_output) + (1);\n",
      "      buffer_output <= temp;\n",
      "    end if;\n",
      "  end process;\n",
      "end architecture arch_Counter;\n"
     ]
    }
   ],
   "source": [
    "from cohdl import Entity, Port, Bit, Unsigned, rising_edge\n",
    "from cohdl import std\n",
    "\n",
    "class Counter(Entity):\n",
    "    clk = Port.input(Bit)\n",
    "\n",
    "    output = Port.output(Unsigned[16])\n",
    "\n",
    "    def architecture(self):\n",
    "        @std.sequential\n",
    "        def process():\n",
    "            if rising_edge(self.clk):\n",
    "                # reading from output ports is supported\n",
    "                # cohdl introduces an additional intermediary\n",
    "                # signal for that purpose\n",
    "                self.output <<= self.output + 1\n",
    "\n",
    "print(std.VhdlCompiler.to_string(Counter))"
   ]
  },
  {
   "attachments": {},
   "cell_type": "markdown",
   "metadata": {},
   "source": [
    "### `std.Clock`\n",
    "\n",
    "In addition `std.sequential` also provides a [MyHDL](https://github.com/myhdl/myhdl) style interface for clocked logic and resets. It is based on the types `std.Clock` and `std.Reset` both of which wrap bit signals.\n",
    "\n",
    "When a `std.Clock` parameter is given to `std.sequential`, the HDL representation is wrapped in an if statement. Clocks can be sensitive to rising, falling or both edges. Additional parameters like frequency or duty cycle can be specified, in the constructor of the `Clock` object."
   ]
  },
  {
   "cell_type": "code",
   "execution_count": 3,
   "metadata": {},
   "outputs": [
    {
     "name": "stdout",
     "output_type": "stream",
     "text": [
      "library ieee;\n",
      "use ieee.std_logic_1164.all;\n",
      "use ieee.numeric_std.all;\n",
      "\n",
      "\n",
      "entity Counter is\n",
      "  port (\n",
      "    clk : in std_logic;\n",
      "    output : out unsigned(15 downto 0)\n",
      "    );\n",
      "end Counter;\n",
      "\n",
      "\n",
      "architecture arch_Counter of Counter is\n",
      "  function cohdl_bool_to_std_logic(inp: boolean) return std_logic is\n",
      "  begin\n",
      "    if inp then\n",
      "      return('1');\n",
      "    else\n",
      "      return('0');\n",
      "    end if;\n",
      "  end function cohdl_bool_to_std_logic;\n",
      "  signal buffer_output : unsigned(15 downto 0);\n",
      "begin\n",
      "  \n",
      "  -- CONCURRENT BLOCK (buffer assignment)\n",
      "  output <= buffer_output;\n",
      "  \n",
      "\n",
      "  process_1: process(clk)\n",
      "    variable temp : unsigned(15 downto 0);\n",
      "  begin\n",
      "    if rising_edge(clk) then\n",
      "      temp := (buffer_output) + (1);\n",
      "      buffer_output <= temp;\n",
      "    end if;\n",
      "  end process;\n",
      "end architecture arch_Counter;\n"
     ]
    }
   ],
   "source": [
    "from cohdl import Entity, Port, Bit, Unsigned\n",
    "from cohdl import std\n",
    "\n",
    "class Counter(Entity):\n",
    "    clk = Port.input(Bit)\n",
    "    output = Port.output(Unsigned[16])\n",
    "\n",
    "    def architecture(self):\n",
    "        clk = std.Clock(self.clk)\n",
    "\n",
    "        # passing a clock parameter to std.sequential\n",
    "        # wraps the entire function body in an\n",
    "        # if rising_edge(clk_signal) statement\n",
    "        @std.sequential(clk)\n",
    "        def process():\n",
    "            self.output <<= self.output + 1\n",
    "\n",
    "print(std.VhdlCompiler.to_string(Counter))"
   ]
  },
  {
   "attachments": {},
   "cell_type": "markdown",
   "metadata": {},
   "source": [
    "### `std.Reset`\n",
    "\n",
    "When a `std.Reset` parameter is given to `std.sequential`, the HDL representation is wrapped in an additional if statement. Depending on the state of the reset signal, it either executes the function body or resets all Signals and Variables, that are driven by the this context and have default values.\n",
    "\n",
    "`std.Reset` can be synchronous or asynchronous and high or low active. `std.sequential` generates the order of the if-clock_edge-statement and the if-reset-statement accordingly."
   ]
  },
  {
   "cell_type": "code",
   "execution_count": 4,
   "metadata": {},
   "outputs": [
    {
     "name": "stdout",
     "output_type": "stream",
     "text": [
      "library ieee;\n",
      "use ieee.std_logic_1164.all;\n",
      "use ieee.numeric_std.all;\n",
      "\n",
      "\n",
      "entity Counter is\n",
      "  port (\n",
      "    clk : in std_logic;\n",
      "    reset : in std_logic;\n",
      "    output : out unsigned(15 downto 0)\n",
      "    );\n",
      "end Counter;\n",
      "\n",
      "\n",
      "architecture arch_Counter of Counter is\n",
      "  function cohdl_bool_to_std_logic(inp: boolean) return std_logic is\n",
      "  begin\n",
      "    if inp then\n",
      "      return('1');\n",
      "    else\n",
      "      return('0');\n",
      "    end if;\n",
      "  end function cohdl_bool_to_std_logic;\n",
      "  signal buffer_output : unsigned(15 downto 0) := unsigned'(\"0000000000000000\");\n",
      "begin\n",
      "  \n",
      "  -- CONCURRENT BLOCK (buffer assignment)\n",
      "  output <= buffer_output;\n",
      "  \n",
      "\n",
      "  process_1: process(clk)\n",
      "    variable temp : unsigned(15 downto 0);\n",
      "  begin\n",
      "    if rising_edge(clk) then\n",
      "      if reset = '1' then\n",
      "        buffer_output <= unsigned'(\"0000000000000000\");\n",
      "      else\n",
      "        temp := (buffer_output) + (1);\n",
      "        buffer_output <= temp;\n",
      "      end if;\n",
      "    end if;\n",
      "  end process;\n",
      "end architecture arch_Counter;\n"
     ]
    }
   ],
   "source": [
    "from cohdl import Entity, Port, Bit, Unsigned\n",
    "from cohdl import std\n",
    "\n",
    "class Counter(Entity):\n",
    "    clk = Port.input(Bit)\n",
    "    reset = Port.input(Bit)\n",
    "\n",
    "    output = Port.output(Unsigned[16], default=0)\n",
    "\n",
    "    def architecture(self):\n",
    "        clk = std.Clock(self.clk)\n",
    "\n",
    "        # By default std.Reset is active high and synchronous\n",
    "        # it can also be configured as active low and/or asynchronous.\n",
    "        reset = std.Reset(self.reset)\n",
    "\n",
    "        @std.sequential(clk, reset)\n",
    "        def process():\n",
    "            self.output <<= self.output + 1\n",
    "\n",
    "print(std.VhdlCompiler.to_string(Counter))"
   ]
  }
 ],
 "metadata": {
  "kernelspec": {
   "display_name": "venv",
   "language": "python",
   "name": "python3"
  },
  "language_info": {
   "codemirror_mode": {
    "name": "ipython",
    "version": 3
   },
   "file_extension": ".py",
   "mimetype": "text/x-python",
   "name": "python",
   "nbconvert_exporter": "python",
   "pygments_lexer": "ipython3",
   "version": "3.11.2"
  },
  "orig_nbformat": 4,
  "vscode": {
   "interpreter": {
    "hash": "60ab8bcd754584b08389d6b054437a32e700a496bfd0359bc451192bf91e662c"
   }
  }
 },
 "nbformat": 4,
 "nbformat_minor": 2
}
