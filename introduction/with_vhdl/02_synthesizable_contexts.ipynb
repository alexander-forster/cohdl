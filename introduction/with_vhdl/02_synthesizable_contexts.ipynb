{
 "cells": [
  {
   "attachments": {},
   "cell_type": "markdown",
   "metadata": {},
   "source": [
    "# synthesizable contexts\n",
    "\n",
    "CoHDL translates entities, by executing the architecture method as normal Python code and collecting all function definitions marked as synthesizable contexts. After returning from `architecture` CoHDL parses all found contexts and generates equivalent VHDL. There are two types of synthesizable contexts:\n",
    "\n",
    "* concurrent contexts:\n",
    "    - are decorated with `std.concurrent` (or `concurrent_context`)\n",
    "    - are translated into statements outside VHDL processes\n",
    "* sequential contexts:\n",
    "    - are decorated with `std.sequential` (or `sequential_context`)\n",
    "    - are translated into VHDL processes\n",
    "\n",
    "Footnote:\n",
    "\n",
    "`std.concurrent` and `std.sequential` are convenience wrappers and should be preferred over the underlying CoHDL builtins `concurrent_context` and `sequential_context`."
   ]
  },
  {
   "attachments": {},
   "cell_type": "markdown",
   "metadata": {},
   "source": [
    "---\n",
    "## concurrent logic\n",
    "\n",
    "The `std.concurrent` marks code that should not be part of a VHDL process. To translate the inverter example from the previous section, CoHDL performs the following steps:\n",
    "\n",
    "1. the compiler calls `architecture` as a normal Python function\n",
    "2. the `std.concurrent` decorator adds the local function `logic` to a global list of all synthesizable contexts\n",
    "3. once `architecture` returns the compiler translates all entries in that list to an internal representation\n",
    "4. the VHDL compiler backend takes this representation and turns it into VHDL (currently the only supported target language)\n",
    "5. this VHDL code is placed directly in the architecture scope (not in a process)"
   ]
  },
  {
   "cell_type": "code",
   "execution_count": 1,
   "metadata": {},
   "outputs": [
    {
     "name": "stdout",
     "output_type": "stream",
     "text": [
      "library ieee;\n",
      "use ieee.std_logic_1164.all;\n",
      "use ieee.numeric_std.all;\n",
      "\n",
      "\n",
      "entity Inverter is\n",
      "  port (\n",
      "    input : in std_logic;\n",
      "    output : out std_logic\n",
      "    );\n",
      "end Inverter;\n",
      "\n",
      "\n",
      "architecture arch_Inverter of Inverter is\n",
      "  function cohdl_bool_to_std_logic(inp: boolean) return std_logic is\n",
      "  begin\n",
      "    if inp then\n",
      "      return('1');\n",
      "    else\n",
      "      return('0');\n",
      "    end if;\n",
      "  end function cohdl_bool_to_std_logic;\n",
      "  signal buffer_output : std_logic;\n",
      "  signal temp : std_logic;\n",
      "begin\n",
      "  \n",
      "  -- CONCURRENT BLOCK (buffer assignment)\n",
      "  output <= buffer_output;\n",
      "  \n",
      "  -- CONCURRENT BLOCK (logic)\n",
      "  temp <= not (input);\n",
      "  buffer_output <= temp;\n",
      "end architecture arch_Inverter;\n"
     ]
    }
   ],
   "source": [
    "from cohdl import Entity, Port, Bit\n",
    "from cohdl import std\n",
    "\n",
    "class Inverter(Entity):\n",
    "    input = Port.input(Bit)\n",
    "    output = Port.output(Bit)\n",
    "\n",
    "    def architecture(self):\n",
    "        @std.concurrent\n",
    "        def logic():\n",
    "            self.output <<= ~self.input\n",
    "\n",
    "print(std.VhdlCompiler.to_string(Inverter))"
   ]
  },
  {
   "attachments": {},
   "cell_type": "markdown",
   "metadata": {},
   "source": [
    "---\n",
    "## sequential logic\n",
    "\n",
    "The `std.sequential` decorator works like `std.concurrent`. However the generated VHDL representation is placed in a process. The following examples show three different ways of implementing a counter that is incremented on every rising edge of a clock signal."
   ]
  },
  {
   "attachments": {},
   "cell_type": "markdown",
   "metadata": {},
   "source": [
    "### `rising_edge`\n",
    "\n",
    "CoHDL defines `rising_edge` and `falling_edge` as a magic functions, to make it possible to implement VHDL style clocked logic."
   ]
  },
  {
   "cell_type": "code",
   "execution_count": 2,
   "metadata": {},
   "outputs": [
    {
     "name": "stdout",
     "output_type": "stream",
     "text": [
      "'_BitSignalEvent' object has no attribute '__bool__'\n",
      "    @ /tmp/ipykernel_253511/3177613936.py:12\n",
      "\n",
      "used in <class 'ast.Call'>\n",
      "    @ /home/alexander/dev/github/cohdl/cohdl/std/_context.py:327\n",
      "\n",
      "used in <class 'ast.Expr'>\n",
      "    @ /home/alexander/dev/github/cohdl/cohdl/std/_context.py:327\n",
      "\n",
      "used in <class 'list'>\n",
      "    @ /home/alexander/dev/github/cohdl/cohdl/std/_context.py:320\n",
      "\n",
      "used in <class 'ast.If'>\n",
      "    @ /home/alexander/dev/github/cohdl/cohdl/std/_context.py:324\n",
      "\n"
     ]
    },
    {
     "ename": "AttributeError",
     "evalue": "'_BitSignalEvent' object has no attribute '__bool__'",
     "output_type": "error",
     "traceback": [
      "\u001b[0;31m---------------------------------------------------------------------------\u001b[0m",
      "\u001b[0;31mAttributeError\u001b[0m                            Traceback (most recent call last)",
      "Cell \u001b[0;32mIn[2], line 18\u001b[0m\n\u001b[1;32m     12\u001b[0m             \u001b[39mif\u001b[39;00m rising_edge(\u001b[39mself\u001b[39m\u001b[39m.\u001b[39mclk):\n\u001b[1;32m     13\u001b[0m                 \u001b[39m# reading from output ports is supported\u001b[39;00m\n\u001b[1;32m     14\u001b[0m                 \u001b[39m# cohdl introduces an additional intermediary\u001b[39;00m\n\u001b[1;32m     15\u001b[0m                 \u001b[39m# signal for that purpose\u001b[39;00m\n\u001b[1;32m     16\u001b[0m                 \u001b[39mself\u001b[39m\u001b[39m.\u001b[39moutput \u001b[39m<<\u001b[39m\u001b[39m=\u001b[39m \u001b[39mself\u001b[39m\u001b[39m.\u001b[39moutput \u001b[39m+\u001b[39m \u001b[39m1\u001b[39m\n\u001b[0;32m---> 18\u001b[0m \u001b[39mprint\u001b[39m(std\u001b[39m.\u001b[39;49mVhdlCompiler\u001b[39m.\u001b[39;49mto_string(Counter))\n",
      "File \u001b[0;32m~/dev/github/cohdl/cohdl/std/_compile.py:23\u001b[0m, in \u001b[0;36mVhdlCompiler.to_string\u001b[0;34m(cls, top_entity)\u001b[0m\n\u001b[1;32m     21\u001b[0m \u001b[39m@classmethod\u001b[39m\n\u001b[1;32m     22\u001b[0m \u001b[39mdef\u001b[39;00m \u001b[39mto_string\u001b[39m(\u001b[39mcls\u001b[39m, top_entity):\n\u001b[0;32m---> 23\u001b[0m     \u001b[39mreturn\u001b[39;00m \u001b[39mstr\u001b[39m(\u001b[39mcls\u001b[39;49m\u001b[39m.\u001b[39;49mto_vhdl_library(top_entity)\u001b[39m.\u001b[39mwrite())\n",
      "File \u001b[0;32m~/dev/github/cohdl/cohdl/std/_compile.py:18\u001b[0m, in \u001b[0;36mVhdlCompiler.to_vhdl_library\u001b[0;34m(cls, top_entity)\u001b[0m\n\u001b[1;32m     16\u001b[0m \u001b[39m@classmethod\u001b[39m\n\u001b[1;32m     17\u001b[0m \u001b[39mdef\u001b[39;00m \u001b[39mto_vhdl_library\u001b[39m(\u001b[39mcls\u001b[39m, top_entity):\n\u001b[0;32m---> 18\u001b[0m     ir \u001b[39m=\u001b[39m generate_internal_representation(top_entity)\n\u001b[1;32m     19\u001b[0m     \u001b[39mreturn\u001b[39;00m generate_vhdl(ir)\n",
      "File \u001b[0;32m~/dev/github/cohdl/cohdl/_compiler/frontend/_frontend.py:9\u001b[0m, in \u001b[0;36mgenerate_internal_representation\u001b[0;34m(instance)\u001b[0m\n\u001b[1;32m      8\u001b[0m \u001b[39mdef\u001b[39;00m \u001b[39mgenerate_internal_representation\u001b[39m(instance):\n\u001b[0;32m----> 9\u001b[0m     preprocessed \u001b[39m=\u001b[39m ConvertPythonInstance()\u001b[39m.\u001b[39;49mapply(instance)\n\u001b[1;32m     10\u001b[0m     \u001b[39mreturn\u001b[39;00m ConvertInstance()\u001b[39m.\u001b[39mapply(preprocessed)\n",
      "File \u001b[0;32m~/dev/github/cohdl/cohdl/_compiler/frontend/_prepare_ast.py:1706\u001b[0m, in \u001b[0;36mConvertPythonInstance.apply\u001b[0;34m(self, inp)\u001b[0m\n\u001b[1;32m   1697\u001b[0m             inp(\u001b[39m*\u001b[39m\u001b[39m*\u001b[39minp\u001b[39m.\u001b[39m_info\u001b[39m.\u001b[39mports, \u001b[39m*\u001b[39m\u001b[39m*\u001b[39minp\u001b[39m.\u001b[39m_info\u001b[39m.\u001b[39mgenerics)\n\u001b[1;32m   1698\u001b[0m             \u001b[39massert\u001b[39;00m \u001b[39misinstance\u001b[39m(inp\u001b[39m.\u001b[39m_info\u001b[39m.\u001b[39minstantiated, inp)\n\u001b[1;32m   1700\u001b[0m             inp\u001b[39m.\u001b[39m_info\u001b[39m.\u001b[39minstantiated_template \u001b[39m=\u001b[39m out\u001b[39m.\u001b[39mEntityTemplate(\n\u001b[1;32m   1701\u001b[0m                 inp\u001b[39m.\u001b[39m_info,\n\u001b[1;32m   1702\u001b[0m                 [\n\u001b[1;32m   1703\u001b[0m                     \u001b[39mself\u001b[39m\u001b[39m.\u001b[39mapply(block)\n\u001b[1;32m   1704\u001b[0m                     \u001b[39mfor\u001b[39;00m block \u001b[39min\u001b[39;00m inp\u001b[39m.\u001b[39m_info\u001b[39m.\u001b[39minstantiated\u001b[39m.\u001b[39mcontained_blocks()\n\u001b[1;32m   1705\u001b[0m                 ],\n\u001b[0;32m-> 1706\u001b[0m                 [\n\u001b[1;32m   1707\u001b[0m                     \u001b[39mself\u001b[39;49m\u001b[39m.\u001b[39;49mapply(ctx)\n\u001b[1;32m   1708\u001b[0m                     \u001b[39mfor\u001b[39;49;00m ctx \u001b[39min\u001b[39;49;00m inp\u001b[39m.\u001b[39;49m_info\u001b[39m.\u001b[39;49minstantiated\u001b[39m.\u001b[39;49mcontained_contexts()\n\u001b[1;32m   1709\u001b[0m                 ],\n\u001b[1;32m   1710\u001b[0m             )\n\u001b[1;32m   1712\u001b[0m     \u001b[39mreturn\u001b[39;00m inp\u001b[39m.\u001b[39m_info\u001b[39m.\u001b[39minstantiated_template\n\u001b[1;32m   1714\u001b[0m \u001b[39mif\u001b[39;00m \u001b[39misinstance\u001b[39m(inp, Block):\n",
      "File \u001b[0;32m~/dev/github/cohdl/cohdl/_compiler/frontend/_prepare_ast.py:1707\u001b[0m, in \u001b[0;36m<listcomp>\u001b[0;34m(.0)\u001b[0m\n\u001b[1;32m   1697\u001b[0m             inp(\u001b[39m*\u001b[39m\u001b[39m*\u001b[39minp\u001b[39m.\u001b[39m_info\u001b[39m.\u001b[39mports, \u001b[39m*\u001b[39m\u001b[39m*\u001b[39minp\u001b[39m.\u001b[39m_info\u001b[39m.\u001b[39mgenerics)\n\u001b[1;32m   1698\u001b[0m             \u001b[39massert\u001b[39;00m \u001b[39misinstance\u001b[39m(inp\u001b[39m.\u001b[39m_info\u001b[39m.\u001b[39minstantiated, inp)\n\u001b[1;32m   1700\u001b[0m             inp\u001b[39m.\u001b[39m_info\u001b[39m.\u001b[39minstantiated_template \u001b[39m=\u001b[39m out\u001b[39m.\u001b[39mEntityTemplate(\n\u001b[1;32m   1701\u001b[0m                 inp\u001b[39m.\u001b[39m_info,\n\u001b[1;32m   1702\u001b[0m                 [\n\u001b[1;32m   1703\u001b[0m                     \u001b[39mself\u001b[39m\u001b[39m.\u001b[39mapply(block)\n\u001b[1;32m   1704\u001b[0m                     \u001b[39mfor\u001b[39;00m block \u001b[39min\u001b[39;00m inp\u001b[39m.\u001b[39m_info\u001b[39m.\u001b[39minstantiated\u001b[39m.\u001b[39mcontained_blocks()\n\u001b[1;32m   1705\u001b[0m                 ],\n\u001b[1;32m   1706\u001b[0m                 [\n\u001b[0;32m-> 1707\u001b[0m                     \u001b[39mself\u001b[39;49m\u001b[39m.\u001b[39;49mapply(ctx)\n\u001b[1;32m   1708\u001b[0m                     \u001b[39mfor\u001b[39;00m ctx \u001b[39min\u001b[39;00m inp\u001b[39m.\u001b[39m_info\u001b[39m.\u001b[39minstantiated\u001b[39m.\u001b[39mcontained_contexts()\n\u001b[1;32m   1709\u001b[0m                 ],\n\u001b[1;32m   1710\u001b[0m             )\n\u001b[1;32m   1712\u001b[0m     \u001b[39mreturn\u001b[39;00m inp\u001b[39m.\u001b[39m_info\u001b[39m.\u001b[39minstantiated_template\n\u001b[1;32m   1714\u001b[0m \u001b[39mif\u001b[39;00m \u001b[39misinstance\u001b[39m(inp, Block):\n",
      "File \u001b[0;32m~/dev/github/cohdl/cohdl/_compiler/frontend/_prepare_ast.py:1728\u001b[0m, in \u001b[0;36mConvertPythonInstance.apply\u001b[0;34m(self, inp)\u001b[0m\n\u001b[1;32m   1726\u001b[0m     \u001b[39mreturn\u001b[39;00m PrepareAst\u001b[39m.\u001b[39mconvert_concurrent(inp)\n\u001b[1;32m   1727\u001b[0m \u001b[39melif\u001b[39;00m ctx_type \u001b[39mis\u001b[39;00m ContextType\u001b[39m.\u001b[39mSEQUENTIAL:\n\u001b[0;32m-> 1728\u001b[0m     \u001b[39mreturn\u001b[39;00m PrepareAst\u001b[39m.\u001b[39;49mconvert_sequential(inp)\n\u001b[1;32m   1730\u001b[0m \u001b[39mraise\u001b[39;00m \u001b[39mAssertionError\u001b[39;00m(\u001b[39mf\u001b[39m\u001b[39m\"\u001b[39m\u001b[39minvalid context type \u001b[39m\u001b[39m'\u001b[39m\u001b[39m{\u001b[39;00mctx_type\u001b[39m}\u001b[39;00m\u001b[39m'\u001b[39m\u001b[39m\"\u001b[39m)\n",
      "File \u001b[0;32m~/dev/github/cohdl/cohdl/_compiler/frontend/_prepare_ast.py:106\u001b[0m, in \u001b[0;36mPrepareAst.convert_sequential\u001b[0;34m(ctx)\u001b[0m\n\u001b[1;32m    103\u001b[0m \u001b[39m@staticmethod\u001b[39m\n\u001b[1;32m    104\u001b[0m \u001b[39mdef\u001b[39;00m \u001b[39mconvert_sequential\u001b[39m(ctx: Context) \u001b[39m-\u001b[39m\u001b[39m>\u001b[39m out\u001b[39m.\u001b[39mSequential:\n\u001b[1;32m    105\u001b[0m     conv \u001b[39m=\u001b[39m PrepareAst(ctx\u001b[39m.\u001b[39minstantiate_fn(), ContextType\u001b[39m.\u001b[39mSEQUENTIAL)\n\u001b[0;32m--> 106\u001b[0m     call \u001b[39m=\u001b[39m conv\u001b[39m.\u001b[39;49mconvert_call()\n\u001b[1;32m    108\u001b[0m     \u001b[39massert\u001b[39;00m \u001b[39misinstance\u001b[39m(call, out\u001b[39m.\u001b[39mCall)\n\u001b[1;32m    110\u001b[0m     \u001b[39mreturn\u001b[39;00m out\u001b[39m.\u001b[39mSequential(\n\u001b[1;32m    111\u001b[0m         ctx\u001b[39m.\u001b[39mname(),\n\u001b[1;32m    112\u001b[0m         call\u001b[39m.\u001b[39mcode(),\n\u001b[0;32m   (...)\u001b[0m\n\u001b[1;32m    116\u001b[0m         source_location\u001b[39m=\u001b[39mctx\u001b[39m.\u001b[39msource_location(),\n\u001b[1;32m    117\u001b[0m     )\n",
      "File \u001b[0;32m~/dev/github/cohdl/cohdl/_compiler/frontend/_prepare_ast.py:468\u001b[0m, in \u001b[0;36mPrepareAst.convert_call\u001b[0;34m(self)\u001b[0m\n\u001b[1;32m    466\u001b[0m \u001b[39mdef\u001b[39;00m \u001b[39mconvert_call\u001b[39m(\u001b[39mself\u001b[39m) \u001b[39m-\u001b[39m\u001b[39m>\u001b[39m out\u001b[39m.\u001b[39mStatement \u001b[39m|\u001b[39m out\u001b[39m.\u001b[39mSelectWith:\n\u001b[1;32m    467\u001b[0m     \u001b[39mreturn\u001b[39;00m out\u001b[39m.\u001b[39mCall(\n\u001b[0;32m--> 468\u001b[0m         out\u001b[39m.\u001b[39mCodeBlock([\u001b[39mself\u001b[39;49m\u001b[39m.\u001b[39;49mapply(stmt) \u001b[39mfor\u001b[39;49;00m stmt \u001b[39min\u001b[39;49;00m \u001b[39mself\u001b[39;49m\u001b[39m.\u001b[39;49m_fn_def\u001b[39m.\u001b[39;49mbody()])\n\u001b[1;32m    469\u001b[0m     )\n",
      "File \u001b[0;32m~/dev/github/cohdl/cohdl/_compiler/frontend/_prepare_ast.py:468\u001b[0m, in \u001b[0;36m<listcomp>\u001b[0;34m(.0)\u001b[0m\n\u001b[1;32m    466\u001b[0m \u001b[39mdef\u001b[39;00m \u001b[39mconvert_call\u001b[39m(\u001b[39mself\u001b[39m) \u001b[39m-\u001b[39m\u001b[39m>\u001b[39m out\u001b[39m.\u001b[39mStatement \u001b[39m|\u001b[39m out\u001b[39m.\u001b[39mSelectWith:\n\u001b[1;32m    467\u001b[0m     \u001b[39mreturn\u001b[39;00m out\u001b[39m.\u001b[39mCall(\n\u001b[0;32m--> 468\u001b[0m         out\u001b[39m.\u001b[39mCodeBlock([\u001b[39mself\u001b[39;49m\u001b[39m.\u001b[39;49mapply(stmt) \u001b[39mfor\u001b[39;00m stmt \u001b[39min\u001b[39;00m \u001b[39mself\u001b[39m\u001b[39m.\u001b[39m_fn_def\u001b[39m.\u001b[39mbody()])\n\u001b[1;32m    469\u001b[0m     )\n",
      "File \u001b[0;32m~/dev/github/cohdl/cohdl/_compiler/frontend/_prepare_ast.py:397\u001b[0m, in \u001b[0;36mPrepareAst.apply\u001b[0;34m(self, inp)\u001b[0m\n\u001b[1;32m    394\u001b[0m \u001b[39melse\u001b[39;00m:\n\u001b[1;32m    395\u001b[0m     \u001b[39mprint\u001b[39m(\u001b[39mself\u001b[39m\u001b[39m.\u001b[39merror(\u001b[39mf\u001b[39m\u001b[39m\"\u001b[39m\u001b[39mused in \u001b[39m\u001b[39m{\u001b[39;00m\u001b[39mtype\u001b[39m(inp)\u001b[39m}\u001b[39;00m\u001b[39m\"\u001b[39m, lineno))\n\u001b[0;32m--> 397\u001b[0m \u001b[39mraise\u001b[39;00m err\n",
      "File \u001b[0;32m~/dev/github/cohdl/cohdl/_compiler/frontend/_prepare_ast.py:383\u001b[0m, in \u001b[0;36mPrepareAst.apply\u001b[0;34m(self, inp)\u001b[0m\n\u001b[1;32m    381\u001b[0m \u001b[39mdef\u001b[39;00m \u001b[39mapply\u001b[39m(\u001b[39mself\u001b[39m, inp):\n\u001b[1;32m    382\u001b[0m     \u001b[39mtry\u001b[39;00m:\n\u001b[0;32m--> 383\u001b[0m         \u001b[39mreturn\u001b[39;00m \u001b[39mself\u001b[39;49m\u001b[39m.\u001b[39;49mapply_impl(inp)\n\u001b[1;32m    384\u001b[0m     \u001b[39mexcept\u001b[39;00m \u001b[39mException\u001b[39;00m \u001b[39mas\u001b[39;00m err:\n\u001b[1;32m    385\u001b[0m         \u001b[39mif\u001b[39;00m \u001b[39misinstance\u001b[39m(inp, ast\u001b[39m.\u001b[39mAST):\n",
      "File \u001b[0;32m~/dev/github/cohdl/cohdl/_compiler/frontend/_prepare_ast.py:729\u001b[0m, in \u001b[0;36mPrepareAst.apply_impl\u001b[0;34m(self, inp)\u001b[0m\n\u001b[1;32m    727\u001b[0m     block \u001b[39m=\u001b[39m \u001b[39mself\u001b[39m\u001b[39m.\u001b[39mapply(inp\u001b[39m.\u001b[39mbody)\n\u001b[1;32m    728\u001b[0m \u001b[39melse\u001b[39;00m:\n\u001b[0;32m--> 729\u001b[0m     block \u001b[39m=\u001b[39m \u001b[39mself\u001b[39;49m\u001b[39m.\u001b[39;49mapply(inp\u001b[39m.\u001b[39;49morelse)\n\u001b[1;32m    731\u001b[0m block\u001b[39m.\u001b[39madd_bound_statement(test)\n\u001b[1;32m    732\u001b[0m \u001b[39mreturn\u001b[39;00m block\n",
      "File \u001b[0;32m~/dev/github/cohdl/cohdl/_compiler/frontend/_prepare_ast.py:397\u001b[0m, in \u001b[0;36mPrepareAst.apply\u001b[0;34m(self, inp)\u001b[0m\n\u001b[1;32m    394\u001b[0m \u001b[39melse\u001b[39;00m:\n\u001b[1;32m    395\u001b[0m     \u001b[39mprint\u001b[39m(\u001b[39mself\u001b[39m\u001b[39m.\u001b[39merror(\u001b[39mf\u001b[39m\u001b[39m\"\u001b[39m\u001b[39mused in \u001b[39m\u001b[39m{\u001b[39;00m\u001b[39mtype\u001b[39m(inp)\u001b[39m}\u001b[39;00m\u001b[39m\"\u001b[39m, lineno))\n\u001b[0;32m--> 397\u001b[0m \u001b[39mraise\u001b[39;00m err\n",
      "File \u001b[0;32m~/dev/github/cohdl/cohdl/_compiler/frontend/_prepare_ast.py:383\u001b[0m, in \u001b[0;36mPrepareAst.apply\u001b[0;34m(self, inp)\u001b[0m\n\u001b[1;32m    381\u001b[0m \u001b[39mdef\u001b[39;00m \u001b[39mapply\u001b[39m(\u001b[39mself\u001b[39m, inp):\n\u001b[1;32m    382\u001b[0m     \u001b[39mtry\u001b[39;00m:\n\u001b[0;32m--> 383\u001b[0m         \u001b[39mreturn\u001b[39;00m \u001b[39mself\u001b[39;49m\u001b[39m.\u001b[39;49mapply_impl(inp)\n\u001b[1;32m    384\u001b[0m     \u001b[39mexcept\u001b[39;00m \u001b[39mException\u001b[39;00m \u001b[39mas\u001b[39;00m err:\n\u001b[1;32m    385\u001b[0m         \u001b[39mif\u001b[39;00m \u001b[39misinstance\u001b[39m(inp, ast\u001b[39m.\u001b[39mAST):\n",
      "File \u001b[0;32m~/dev/github/cohdl/cohdl/_compiler/frontend/_prepare_ast.py:718\u001b[0m, in \u001b[0;36mPrepareAst.apply_impl\u001b[0;34m(self, inp)\u001b[0m\n\u001b[1;32m    715\u001b[0m         \u001b[39mraise\u001b[39;00m \u001b[39mAssertionError\u001b[39;00m(\u001b[39mf\u001b[39m\u001b[39m\"\u001b[39m\u001b[39minvalid attribute context \u001b[39m\u001b[39m'\u001b[39m\u001b[39m{\u001b[39;00minp\u001b[39m.\u001b[39mctx\u001b[39m}\u001b[39;00m\u001b[39m'\u001b[39m\u001b[39m\"\u001b[39m)\n\u001b[1;32m    717\u001b[0m \u001b[39mif\u001b[39;00m \u001b[39misinstance\u001b[39m(inp, \u001b[39mlist\u001b[39m):\n\u001b[0;32m--> 718\u001b[0m     \u001b[39mreturn\u001b[39;00m out\u001b[39m.\u001b[39mCodeBlock([\u001b[39mself\u001b[39;49m\u001b[39m.\u001b[39;49mapply(elem) \u001b[39mfor\u001b[39;49;00m elem \u001b[39min\u001b[39;49;00m inp])\n\u001b[1;32m    720\u001b[0m \u001b[39mif\u001b[39;00m \u001b[39misinstance\u001b[39m(inp, ast\u001b[39m.\u001b[39mIf):\n\u001b[1;32m    721\u001b[0m     inp_expr \u001b[39m=\u001b[39m \u001b[39mself\u001b[39m\u001b[39m.\u001b[39mapply(inp\u001b[39m.\u001b[39mtest)\n",
      "File \u001b[0;32m~/dev/github/cohdl/cohdl/_compiler/frontend/_prepare_ast.py:718\u001b[0m, in \u001b[0;36m<listcomp>\u001b[0;34m(.0)\u001b[0m\n\u001b[1;32m    715\u001b[0m         \u001b[39mraise\u001b[39;00m \u001b[39mAssertionError\u001b[39;00m(\u001b[39mf\u001b[39m\u001b[39m\"\u001b[39m\u001b[39minvalid attribute context \u001b[39m\u001b[39m'\u001b[39m\u001b[39m{\u001b[39;00minp\u001b[39m.\u001b[39mctx\u001b[39m}\u001b[39;00m\u001b[39m'\u001b[39m\u001b[39m\"\u001b[39m)\n\u001b[1;32m    717\u001b[0m \u001b[39mif\u001b[39;00m \u001b[39misinstance\u001b[39m(inp, \u001b[39mlist\u001b[39m):\n\u001b[0;32m--> 718\u001b[0m     \u001b[39mreturn\u001b[39;00m out\u001b[39m.\u001b[39mCodeBlock([\u001b[39mself\u001b[39;49m\u001b[39m.\u001b[39;49mapply(elem) \u001b[39mfor\u001b[39;00m elem \u001b[39min\u001b[39;00m inp])\n\u001b[1;32m    720\u001b[0m \u001b[39mif\u001b[39;00m \u001b[39misinstance\u001b[39m(inp, ast\u001b[39m.\u001b[39mIf):\n\u001b[1;32m    721\u001b[0m     inp_expr \u001b[39m=\u001b[39m \u001b[39mself\u001b[39m\u001b[39m.\u001b[39mapply(inp\u001b[39m.\u001b[39mtest)\n",
      "File \u001b[0;32m~/dev/github/cohdl/cohdl/_compiler/frontend/_prepare_ast.py:397\u001b[0m, in \u001b[0;36mPrepareAst.apply\u001b[0;34m(self, inp)\u001b[0m\n\u001b[1;32m    394\u001b[0m \u001b[39melse\u001b[39;00m:\n\u001b[1;32m    395\u001b[0m     \u001b[39mprint\u001b[39m(\u001b[39mself\u001b[39m\u001b[39m.\u001b[39merror(\u001b[39mf\u001b[39m\u001b[39m\"\u001b[39m\u001b[39mused in \u001b[39m\u001b[39m{\u001b[39;00m\u001b[39mtype\u001b[39m(inp)\u001b[39m}\u001b[39;00m\u001b[39m\"\u001b[39m, lineno))\n\u001b[0;32m--> 397\u001b[0m \u001b[39mraise\u001b[39;00m err\n",
      "File \u001b[0;32m~/dev/github/cohdl/cohdl/_compiler/frontend/_prepare_ast.py:383\u001b[0m, in \u001b[0;36mPrepareAst.apply\u001b[0;34m(self, inp)\u001b[0m\n\u001b[1;32m    381\u001b[0m \u001b[39mdef\u001b[39;00m \u001b[39mapply\u001b[39m(\u001b[39mself\u001b[39m, inp):\n\u001b[1;32m    382\u001b[0m     \u001b[39mtry\u001b[39;00m:\n\u001b[0;32m--> 383\u001b[0m         \u001b[39mreturn\u001b[39;00m \u001b[39mself\u001b[39;49m\u001b[39m.\u001b[39;49mapply_impl(inp)\n\u001b[1;32m    384\u001b[0m     \u001b[39mexcept\u001b[39;00m \u001b[39mException\u001b[39;00m \u001b[39mas\u001b[39;00m err:\n\u001b[1;32m    385\u001b[0m         \u001b[39mif\u001b[39;00m \u001b[39misinstance\u001b[39m(inp, ast\u001b[39m.\u001b[39mAST):\n",
      "File \u001b[0;32m~/dev/github/cohdl/cohdl/_compiler/frontend/_prepare_ast.py:1116\u001b[0m, in \u001b[0;36mPrepareAst.apply_impl\u001b[0;34m(self, inp)\u001b[0m\n\u001b[1;32m   1111\u001b[0m     \u001b[39mreturn\u001b[39;00m out\u001b[39m.\u001b[39mValue(\n\u001b[1;32m   1112\u001b[0m         \u001b[39mslice\u001b[39m(start\u001b[39m.\u001b[39mresult(), stop\u001b[39m.\u001b[39mresult(), step\u001b[39m.\u001b[39mresult()), [start, stop, step]\n\u001b[1;32m   1113\u001b[0m     )\n\u001b[1;32m   1115\u001b[0m \u001b[39mif\u001b[39;00m \u001b[39misinstance\u001b[39m(inp, ast\u001b[39m.\u001b[39mExpr):\n\u001b[0;32m-> 1116\u001b[0m     \u001b[39mreturn\u001b[39;00m \u001b[39mself\u001b[39;49m\u001b[39m.\u001b[39;49mapply(inp\u001b[39m.\u001b[39;49mvalue)\n\u001b[1;32m   1118\u001b[0m \u001b[39mif\u001b[39;00m \u001b[39misinstance\u001b[39m(inp, ast\u001b[39m.\u001b[39mAwait):\n\u001b[1;32m   1119\u001b[0m     \u001b[39massert\u001b[39;00m (\n\u001b[1;32m   1120\u001b[0m         \u001b[39mself\u001b[39m\u001b[39m.\u001b[39mis_async()\n\u001b[1;32m   1121\u001b[0m     ), \u001b[39m\"\u001b[39m\u001b[39mawait expressions can only be used in async contexts\u001b[39m\u001b[39m\"\u001b[39m\n",
      "File \u001b[0;32m~/dev/github/cohdl/cohdl/_compiler/frontend/_prepare_ast.py:397\u001b[0m, in \u001b[0;36mPrepareAst.apply\u001b[0;34m(self, inp)\u001b[0m\n\u001b[1;32m    394\u001b[0m \u001b[39melse\u001b[39;00m:\n\u001b[1;32m    395\u001b[0m     \u001b[39mprint\u001b[39m(\u001b[39mself\u001b[39m\u001b[39m.\u001b[39merror(\u001b[39mf\u001b[39m\u001b[39m\"\u001b[39m\u001b[39mused in \u001b[39m\u001b[39m{\u001b[39;00m\u001b[39mtype\u001b[39m(inp)\u001b[39m}\u001b[39;00m\u001b[39m\"\u001b[39m, lineno))\n\u001b[0;32m--> 397\u001b[0m \u001b[39mraise\u001b[39;00m err\n",
      "File \u001b[0;32m~/dev/github/cohdl/cohdl/_compiler/frontend/_prepare_ast.py:383\u001b[0m, in \u001b[0;36mPrepareAst.apply\u001b[0;34m(self, inp)\u001b[0m\n\u001b[1;32m    381\u001b[0m \u001b[39mdef\u001b[39;00m \u001b[39mapply\u001b[39m(\u001b[39mself\u001b[39m, inp):\n\u001b[1;32m    382\u001b[0m     \u001b[39mtry\u001b[39;00m:\n\u001b[0;32m--> 383\u001b[0m         \u001b[39mreturn\u001b[39;00m \u001b[39mself\u001b[39;49m\u001b[39m.\u001b[39;49mapply_impl(inp)\n\u001b[1;32m    384\u001b[0m     \u001b[39mexcept\u001b[39;00m \u001b[39mException\u001b[39;00m \u001b[39mas\u001b[39;00m err:\n\u001b[1;32m    385\u001b[0m         \u001b[39mif\u001b[39;00m \u001b[39misinstance\u001b[39m(inp, ast\u001b[39m.\u001b[39mAST):\n",
      "File \u001b[0;32m~/dev/github/cohdl/cohdl/_compiler/frontend/_prepare_ast.py:1624\u001b[0m, in \u001b[0;36mPrepareAst.apply_impl\u001b[0;34m(self, inp)\u001b[0m\n\u001b[1;32m   1616\u001b[0m     \u001b[39m# add a return statement that returns the self argument\u001b[39;00m\n\u001b[1;32m   1617\u001b[0m     \u001b[39m# so expressions that use the constructor receive the constructed object\u001b[39;00m\n\u001b[1;32m   1618\u001b[0m     \u001b[39mreturn\u001b[39;00m out\u001b[39m.\u001b[39mCall(\n\u001b[1;32m   1619\u001b[0m         out\u001b[39m.\u001b[39mCodeBlock(\n\u001b[1;32m   1620\u001b[0m             [\u001b[39m*\u001b[39mbound_expressions, result, out\u001b[39m.\u001b[39mReturn(out\u001b[39m.\u001b[39mValue(new_obj, []))]\n\u001b[1;32m   1621\u001b[0m         ),\n\u001b[1;32m   1622\u001b[0m     )\n\u001b[0;32m-> 1624\u001b[0m result \u001b[39m=\u001b[39m \u001b[39mself\u001b[39;49m\u001b[39m.\u001b[39;49msubcall(func_ref, args, kwargs)\n\u001b[1;32m   1625\u001b[0m result\u001b[39m.\u001b[39m_bound_statements \u001b[39m=\u001b[39m [\u001b[39m*\u001b[39mbound_expressions, \u001b[39m*\u001b[39mresult\u001b[39m.\u001b[39m_bound_statements]\n\u001b[1;32m   1626\u001b[0m \u001b[39mreturn\u001b[39;00m result\n",
      "File \u001b[0;32m~/dev/github/cohdl/cohdl/_compiler/frontend/_prepare_ast.py:464\u001b[0m, in \u001b[0;36mPrepareAst.subcall\u001b[0;34m(self, fn, args, kwargs)\u001b[0m\n\u001b[1;32m    459\u001b[0m \u001b[39melse\u001b[39;00m:\n\u001b[1;32m    460\u001b[0m     fn_def \u001b[39m=\u001b[39m fn\n\u001b[1;32m    462\u001b[0m \u001b[39mreturn\u001b[39;00m PrepareAst(\n\u001b[1;32m    463\u001b[0m     fn_def\u001b[39m.\u001b[39;49mbind_args(args, kwargs), \u001b[39mself\u001b[39;49m\u001b[39m.\u001b[39;49m_context, \u001b[39mself\u001b[39;49m\n\u001b[0;32m--> 464\u001b[0m )\u001b[39m.\u001b[39;49mconvert_call()\n",
      "File \u001b[0;32m~/dev/github/cohdl/cohdl/_compiler/frontend/_prepare_ast.py:468\u001b[0m, in \u001b[0;36mPrepareAst.convert_call\u001b[0;34m(self)\u001b[0m\n\u001b[1;32m    466\u001b[0m \u001b[39mdef\u001b[39;00m \u001b[39mconvert_call\u001b[39m(\u001b[39mself\u001b[39m) \u001b[39m-\u001b[39m\u001b[39m>\u001b[39m out\u001b[39m.\u001b[39mStatement \u001b[39m|\u001b[39m out\u001b[39m.\u001b[39mSelectWith:\n\u001b[1;32m    467\u001b[0m     \u001b[39mreturn\u001b[39;00m out\u001b[39m.\u001b[39mCall(\n\u001b[0;32m--> 468\u001b[0m         out\u001b[39m.\u001b[39mCodeBlock([\u001b[39mself\u001b[39;49m\u001b[39m.\u001b[39;49mapply(stmt) \u001b[39mfor\u001b[39;49;00m stmt \u001b[39min\u001b[39;49;00m \u001b[39mself\u001b[39;49m\u001b[39m.\u001b[39;49m_fn_def\u001b[39m.\u001b[39;49mbody()])\n\u001b[1;32m    469\u001b[0m     )\n",
      "File \u001b[0;32m~/dev/github/cohdl/cohdl/_compiler/frontend/_prepare_ast.py:468\u001b[0m, in \u001b[0;36m<listcomp>\u001b[0;34m(.0)\u001b[0m\n\u001b[1;32m    466\u001b[0m \u001b[39mdef\u001b[39;00m \u001b[39mconvert_call\u001b[39m(\u001b[39mself\u001b[39m) \u001b[39m-\u001b[39m\u001b[39m>\u001b[39m out\u001b[39m.\u001b[39mStatement \u001b[39m|\u001b[39m out\u001b[39m.\u001b[39mSelectWith:\n\u001b[1;32m    467\u001b[0m     \u001b[39mreturn\u001b[39;00m out\u001b[39m.\u001b[39mCall(\n\u001b[0;32m--> 468\u001b[0m         out\u001b[39m.\u001b[39mCodeBlock([\u001b[39mself\u001b[39;49m\u001b[39m.\u001b[39;49mapply(stmt) \u001b[39mfor\u001b[39;00m stmt \u001b[39min\u001b[39;00m \u001b[39mself\u001b[39m\u001b[39m.\u001b[39m_fn_def\u001b[39m.\u001b[39mbody()])\n\u001b[1;32m    469\u001b[0m     )\n",
      "File \u001b[0;32m~/dev/github/cohdl/cohdl/_compiler/frontend/_prepare_ast.py:397\u001b[0m, in \u001b[0;36mPrepareAst.apply\u001b[0;34m(self, inp)\u001b[0m\n\u001b[1;32m    394\u001b[0m \u001b[39melse\u001b[39;00m:\n\u001b[1;32m    395\u001b[0m     \u001b[39mprint\u001b[39m(\u001b[39mself\u001b[39m\u001b[39m.\u001b[39merror(\u001b[39mf\u001b[39m\u001b[39m\"\u001b[39m\u001b[39mused in \u001b[39m\u001b[39m{\u001b[39;00m\u001b[39mtype\u001b[39m(inp)\u001b[39m}\u001b[39;00m\u001b[39m\"\u001b[39m, lineno))\n\u001b[0;32m--> 397\u001b[0m \u001b[39mraise\u001b[39;00m err\n",
      "File \u001b[0;32m~/dev/github/cohdl/cohdl/_compiler/frontend/_prepare_ast.py:383\u001b[0m, in \u001b[0;36mPrepareAst.apply\u001b[0;34m(self, inp)\u001b[0m\n\u001b[1;32m    381\u001b[0m \u001b[39mdef\u001b[39;00m \u001b[39mapply\u001b[39m(\u001b[39mself\u001b[39m, inp):\n\u001b[1;32m    382\u001b[0m     \u001b[39mtry\u001b[39;00m:\n\u001b[0;32m--> 383\u001b[0m         \u001b[39mreturn\u001b[39;00m \u001b[39mself\u001b[39;49m\u001b[39m.\u001b[39;49mapply_impl(inp)\n\u001b[1;32m    384\u001b[0m     \u001b[39mexcept\u001b[39;00m \u001b[39mException\u001b[39;00m \u001b[39mas\u001b[39;00m err:\n\u001b[1;32m    385\u001b[0m         \u001b[39mif\u001b[39;00m \u001b[39misinstance\u001b[39m(inp, ast\u001b[39m.\u001b[39mAST):\n",
      "File \u001b[0;32m~/dev/github/cohdl/cohdl/_compiler/frontend/_prepare_ast.py:722\u001b[0m, in \u001b[0;36mPrepareAst.apply_impl\u001b[0;34m(self, inp)\u001b[0m\n\u001b[1;32m    720\u001b[0m \u001b[39mif\u001b[39;00m \u001b[39misinstance\u001b[39m(inp, ast\u001b[39m.\u001b[39mIf):\n\u001b[1;32m    721\u001b[0m     inp_expr \u001b[39m=\u001b[39m \u001b[39mself\u001b[39m\u001b[39m.\u001b[39mapply(inp\u001b[39m.\u001b[39mtest)\n\u001b[0;32m--> 722\u001b[0m     test \u001b[39m=\u001b[39m \u001b[39mself\u001b[39;49m\u001b[39m.\u001b[39;49mconvert_boolean(inp_expr\u001b[39m.\u001b[39;49mresult(), [inp_expr])\n\u001b[1;32m    723\u001b[0m     test_result \u001b[39m=\u001b[39m test\u001b[39m.\u001b[39mresult()\n\u001b[1;32m    725\u001b[0m     \u001b[39mif\u001b[39;00m \u001b[39misinstance\u001b[39m(test_result, \u001b[39mbool\u001b[39m):\n",
      "File \u001b[0;32m~/dev/github/cohdl/cohdl/_compiler/frontend/_prepare_ast.py:144\u001b[0m, in \u001b[0;36mPrepareAst.convert_boolean\u001b[0;34m(self, arg, bound)\u001b[0m\n\u001b[1;32m    141\u001b[0m \u001b[39mif\u001b[39;00m \u001b[39misinstance\u001b[39m(arg, _MergedBranch):\n\u001b[1;32m    142\u001b[0m     \u001b[39massert\u001b[39;00m \u001b[39mFalse\u001b[39;00m, \u001b[39m\"\u001b[39m\u001b[39mTODO\u001b[39m\u001b[39m\"\u001b[39m\n\u001b[0;32m--> 144\u001b[0m bool_fn \u001b[39m=\u001b[39m \u001b[39mgetattr\u001b[39;49m(arg, \u001b[39m\"\u001b[39;49m\u001b[39m__bool__\u001b[39;49m\u001b[39m\"\u001b[39;49m)\n\u001b[1;32m    145\u001b[0m subexpr \u001b[39m=\u001b[39m \u001b[39mself\u001b[39m\u001b[39m.\u001b[39msubcall(bool_fn, [], {})\n\u001b[1;32m    146\u001b[0m bound\u001b[39m.\u001b[39mappend(subexpr)\n",
      "\u001b[0;31mAttributeError\u001b[0m: '_BitSignalEvent' object has no attribute '__bool__'"
     ]
    }
   ],
   "source": [
    "from cohdl import Entity, Port, Bit, Unsigned, rising_edge\n",
    "from cohdl import std\n",
    "\n",
    "class Counter(Entity):\n",
    "    clk = Port.input(Bit)\n",
    "\n",
    "    output = Port.output(Unsigned[16])\n",
    "\n",
    "    def architecture(self):\n",
    "        @std.sequential\n",
    "        def process():\n",
    "            if rising_edge(self.clk):\n",
    "                # reading from output ports is supported\n",
    "                # cohdl introduces an additional intermediary\n",
    "                # signal for that purpose\n",
    "                self.output <<= self.output + 1\n",
    "\n",
    "print(std.VhdlCompiler.to_string(Counter))"
   ]
  },
  {
   "attachments": {},
   "cell_type": "markdown",
   "metadata": {},
   "source": [
    "### `std.Clock`\n",
    "\n",
    "In addition `std.sequential` also provides a [MyHDL](https://github.com/myhdl/myhdl) style interface for clocked logic and resets. It is based on the types `std.Clock` and `std.Reset` both of which wrap bit signals.\n",
    "\n",
    "When a `std.Clock` parameter is given to `std.sequential`, the HDL representation is wrapped in an if statement. Clocks can be sensitive to rising, falling or both edges. Additional parameters like frequency or duty cycle can be specified, in the constructor of the `Clock` object."
   ]
  },
  {
   "cell_type": "code",
   "execution_count": null,
   "metadata": {},
   "outputs": [],
   "source": [
    "from cohdl import Entity, Port, Bit, Unsigned\n",
    "from cohdl import std\n",
    "\n",
    "class Counter(Entity):\n",
    "    clk = Port.input(Bit)\n",
    "    output = Port.output(Unsigned[16])\n",
    "\n",
    "    def architecture(self):\n",
    "        clk = std.Clock(self.clk)\n",
    "\n",
    "        # passing a clock parameter to std.sequential\n",
    "        # wraps the entire function body in an\n",
    "        # if rising_edge(clk_signal) statement\n",
    "        @std.sequential(clk)\n",
    "        def process():\n",
    "            self.output <<= self.output + 1\n",
    "\n",
    "print(std.VhdlCompiler.to_string(Counter))"
   ]
  },
  {
   "attachments": {},
   "cell_type": "markdown",
   "metadata": {},
   "source": [
    "### `std.Reset`\n",
    "\n",
    "When a `std.Reset` parameter is given to `std.sequential`, the HDL representation is wrapped in an additional if statement. Depending on the state of the reset signal, it either executes the function body or resets all Signals and Variables, that are driven by the this context and have default values.\n",
    "\n",
    "`std.Reset` can be synchronous or asynchronous and high or low active. `std.sequential` generates the order of the if-clock_edge-statement and the if-reset-statement accordingly."
   ]
  },
  {
   "cell_type": "code",
   "execution_count": null,
   "metadata": {},
   "outputs": [],
   "source": [
    "from cohdl import Entity, Port, Bit, Unsigned\n",
    "from cohdl import std\n",
    "\n",
    "class Counter(Entity):\n",
    "    clk = Port.input(Bit)\n",
    "    reset = Port.input(Bit)\n",
    "\n",
    "    output = Port.output(Unsigned[16], default=0)\n",
    "\n",
    "    def architecture(self):\n",
    "        clk = std.Clock(self.clk)\n",
    "\n",
    "        # By default std.Reset is active high and synchronous\n",
    "        # it can also be configured as active low and/or asynchronous.\n",
    "        reset = std.Reset(self.reset)\n",
    "\n",
    "        @std.sequential(clk, reset)\n",
    "        def process():\n",
    "            self.output <<= self.output + 1\n",
    "\n",
    "print(std.VhdlCompiler.to_string(Counter))"
   ]
  }
 ],
 "metadata": {
  "kernelspec": {
   "display_name": "cohdl_venv",
   "language": "python",
   "name": "python3"
  },
  "language_info": {
   "codemirror_mode": {
    "name": "ipython",
    "version": 3
   },
   "file_extension": ".py",
   "mimetype": "text/x-python",
   "name": "python",
   "nbconvert_exporter": "python",
   "pygments_lexer": "ipython3",
   "version": "3.11.1"
  },
  "orig_nbformat": 4,
  "vscode": {
   "interpreter": {
    "hash": "382de5f4f49c2aefd568eaa8cac1000c67ae8fef983dc014d1535fefa37c672c"
   }
  }
 },
 "nbformat": 4,
 "nbformat_minor": 2
}
