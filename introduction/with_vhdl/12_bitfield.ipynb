{
 "cells": [
  {
   "attachments": {},
   "cell_type": "markdown",
   "metadata": {},
   "source": [
    "# BitFields\n",
    "\n",
    "Because CoHDL implements vector slices as references, it is fairly easy to build abstraction layers, on top of the provided primitives. `cohdl.std` defined the `bitfield` decorator. It is applied to Python classes and provides convenient access to individual Bits or subvectors.\n",
    "\n",
    "Essentially it defines alias names for parts of BitVectors. There is nothing magic about this decorator. It could also be implemented in normal user code."
   ]
  },
  {
   "cell_type": "code",
   "execution_count": 1,
   "metadata": {},
   "outputs": [],
   "source": [
    "from cohdl import std\n",
    "from cohdl.std.bitfield import bitfield, Field\n",
    "\n",
    "@bitfield\n",
    "class MyBitfield:\n",
    "    # use names a,b and c for bit at offset 0, 1 and 2\n",
    "    a: Field[0]\n",
    "    b: Field[1]\n",
    "    c: Field[2]\n",
    "\n",
    "    # low and high are subvectors\n",
    "    low: Field[15:0]\n",
    "    high: Field[31:16]\n",
    "\n",
    "    # fields can overlap and be Signed or Unsigned\n",
    "    mid: Field[24:8].Unsigned"
   ]
  },
  {
   "cell_type": "code",
   "execution_count": 2,
   "metadata": {},
   "outputs": [
    {
     "name": "stdout",
     "output_type": "stream",
     "text": [
      "library ieee;\n",
      "use ieee.std_logic_1164.all;\n",
      "use ieee.numeric_std.all;\n",
      "\n",
      "\n",
      "entity MyEntity is\n",
      "  port (\n",
      "    data_in : in std_logic_vector(31 downto 0);\n",
      "    data_out : out std_logic_vector(31 downto 0)\n",
      "    );\n",
      "end MyEntity;\n",
      "\n",
      "\n",
      "architecture arch_MyEntity of MyEntity is\n",
      "  function cohdl_bool_to_std_logic(inp: boolean) return std_logic is\n",
      "  begin\n",
      "    if inp then\n",
      "      return('1');\n",
      "    else\n",
      "      return('0');\n",
      "    end if;\n",
      "  end function cohdl_bool_to_std_logic;\n",
      "  signal buffer_data_out : std_logic_vector(31 downto 0);\n",
      "begin\n",
      "  \n",
      "  -- CONCURRENT BLOCK (buffer assignment)\n",
      "  data_out <= buffer_data_out;\n",
      "  \n",
      "\n",
      "  logic: process(data_in, buffer_data_out)\n",
      "    variable temp : std_logic;\n",
      "    variable temp_1 : std_logic;\n",
      "    variable temp_2 : boolean;\n",
      "    variable temp_3 : boolean;\n",
      "    variable temp_4 : unsigned(16 downto 0);\n",
      "  begin\n",
      "    temp := (data_in(0)) and (data_in(1));\n",
      "    temp_1 := (temp) and (data_in(2));\n",
      "    temp_2 := temp_1 = '1';\n",
      "    if temp_2 then\n",
      "      buffer_data_out(15 downto 0) <= std_logic_vector(data_in(31 downto 16));\n",
      "      buffer_data_out(31 downto 16) <= std_logic_vector(data_in(15 downto 0));\n",
      "    else\n",
      "      temp_3 := data_in(0) = '1';\n",
      "      if temp_3 then\n",
      "        buffer_data_out(0) <= data_in(0);\n",
      "        buffer_data_out(1) <= data_in(1);\n",
      "        buffer_data_out(2) <= data_in(2);\n",
      "        buffer_data_out(15 downto 0) <= std_logic_vector(data_in(15 downto 0));\n",
      "        buffer_data_out(31 downto 16) <= std_logic_vector(data_in(31 downto 16));\n",
      "        buffer_data_out(24 downto 8) <= std_logic_vector(unsigned(data_in(24 downto 8)));\n",
      "      else\n",
      "        temp_4 := (unsigned(buffer_data_out(24 downto 8))) + (1);\n",
      "        buffer_data_out(24 downto 8) <= std_logic_vector(temp_4);\n",
      "      end if;\n",
      "    end if;\n",
      "  end process;\n",
      "end architecture arch_MyEntity;\n"
     ]
    }
   ],
   "source": [
    "from cohdl import Port, BitVector\n",
    "from cohdl import Entity\n",
    "\n",
    "class MyEntity(Entity):\n",
    "    data_in = Port.input(BitVector[32])\n",
    "    data_out = Port.output(BitVector[32])\n",
    "\n",
    "    def architecture(self):\n",
    "        # create bitfield objects from data ports\n",
    "        # this does not create any new signals\n",
    "        # the members of inp and out are references\n",
    "        # to bits/subvectors of self.data_in and self.data_out\n",
    "        inp = MyBitfield(self.data_in)\n",
    "        out = MyBitfield(self.data_out)\n",
    "\n",
    "        @std.sequential\n",
    "        def logic():\n",
    "            nonlocal out\n",
    "\n",
    "            if inp.a & inp.b & inp.c:\n",
    "                # swap low and high\n",
    "                out.low <<= inp.high\n",
    "                out.high <<= inp.low\n",
    "            elif inp.a:\n",
    "                # the bitfield decorator defines\n",
    "                # assignment operators\n",
    "                out <<= inp\n",
    "            else:\n",
    "                # out.mid is unsigned, can use arithmetic operators\n",
    "                out.mid <<= out.mid + 1\n",
    "\n",
    "\n",
    "vhdl = std.VhdlCompiler.to_string(MyEntity)\n",
    "print(vhdl)"
   ]
  }
 ],
 "metadata": {
  "kernelspec": {
   "display_name": "cohdl_venv",
   "language": "python",
   "name": "python3"
  },
  "language_info": {
   "codemirror_mode": {
    "name": "ipython",
    "version": 3
   },
   "file_extension": ".py",
   "mimetype": "text/x-python",
   "name": "python",
   "nbconvert_exporter": "python",
   "pygments_lexer": "ipython3",
   "version": "3.11.1 (main, Dec  7 2022, 00:00:00) [GCC 12.2.1 20221121 (Red Hat 12.2.1-4)]"
  },
  "orig_nbformat": 4,
  "vscode": {
   "interpreter": {
    "hash": "382de5f4f49c2aefd568eaa8cac1000c67ae8fef983dc014d1535fefa37c672c"
   }
  }
 },
 "nbformat": 4,
 "nbformat_minor": 2
}
