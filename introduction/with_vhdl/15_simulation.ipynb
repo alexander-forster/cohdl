{
 "cells": [
  {
   "attachments": {},
   "cell_type": "markdown",
   "metadata": {},
   "source": [
    "# Simulation\n",
    "\n",
    "CoHDL is currently not able to simulate synthesizable contexts. Instead [cohdl_sim]() can be used. This Python module uses [cocotb]() to define testbenches for the generated output of CoHDL.\n",
    "\n",
    "The advantage of this approach is, that the designs are tested using established tools.\n",
    "\n",
    "The following simple example defines tests for an entity that adds two numbers. For more details checkout the cohdl_sim [repo]()."
   ]
  },
  {
   "cell_type": "code",
   "execution_count": null,
   "metadata": {},
   "outputs": [],
   "source": [
    "from cohdl import Entity, Port, Unsigned\n",
    "from cohdl import std\n",
    "\n",
    "class MyDesign(Entity):\n",
    "    inp_a = Port.input(Unsigned[8])\n",
    "    inp_b = Port.input(Unsigned[8])\n",
    "\n",
    "    out_sum = Port.output(Unsigned[8])\n",
    "\n",
    "    def architecture(self):\n",
    "        @std.concurrent\n",
    "        def interleave_logic():\n",
    "            self.out_sum <<= self.inp_a + self.inp_b"
   ]
  },
  {
   "attachments": {},
   "cell_type": "markdown",
   "metadata": {},
   "source": [
    "cohdl_sim provides a single class `Simulator`. It wraps a CoHDL entity, translates it to VHDL and starts a cocotb test session with that code. Additionally it abstracts cocotb functions so testbenches look like synthesizable CoHDL code."
   ]
  },
  {
   "cell_type": "code",
   "execution_count": null,
   "metadata": {},
   "outputs": [],
   "source": [
    "from cohdl_sim import Simulator\n",
    "\n",
    "sim = Simulator(MyDesign)\n",
    "\n",
    "@sim.test\n",
    "async def testbench_1(entity: MyDesign):\n",
    "    entity.inp_a <<= 1\n",
    "    entity.inp_b <<= 2\n",
    "\n",
    "    # run simulator to update output\n",
    "    await sim.delta_step()\n",
    "\n",
    "    assert entity.out_sum == 3\n",
    "\n",
    "@sim.test\n",
    "async def testbench_2(entity: MyDesign):\n",
    "    for a in range(10):\n",
    "        for b in range(10):\n",
    "            entity.inp_a <<= a\n",
    "            entity.inp_b <<= b\n",
    "\n",
    "            await sim.delta_step()\n",
    "\n",
    "            assert entity.out_sum == a+b"
   ]
  }
 ],
 "metadata": {
  "kernelspec": {
   "display_name": "venv",
   "language": "python",
   "name": "python3"
  },
  "language_info": {
   "codemirror_mode": {
    "name": "ipython",
    "version": 3
   },
   "file_extension": ".py",
   "mimetype": "text/x-python",
   "name": "python",
   "nbconvert_exporter": "python",
   "pygments_lexer": "ipython3",
   "version": "3.11.1"
  },
  "orig_nbformat": 4,
  "vscode": {
   "interpreter": {
    "hash": "60ab8bcd754584b08389d6b054437a32e700a496bfd0359bc451192bf91e662c"
   }
  }
 },
 "nbformat": 4,
 "nbformat_minor": 2
}
