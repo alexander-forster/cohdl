{
 "cells": [
  {
   "attachments": {},
   "cell_type": "markdown",
   "metadata": {},
   "source": [
    "# Intrinsic functions\n",
    "\n",
    "CoHDL translates function calls by inspecting the abstract syntax tree of the function definition. This is not possible for many Python builtin functions because they\n",
    "\n",
    "* use language constructs not supported by CoHDL\n",
    "* are implemented in C and not available as Python code\n",
    "\n",
    "Some of these functions are treated as CoHDL intrinsics. When intrinsic functions are encountered during compilation they are called with the given arguments and replaced with their return value. Since these functions are never traced by CoHDL they can contain arbitrary code. Intrinsics are a core mechanism for the CoHDL-Python interoperability, features made possible by them in synthesizable contexts include:\n",
    "\n",
    "* integer operators (`int.__add__`, `int.__gt__`, ...)\n",
    "* `range`, `zip`, `enumerate`\n",
    "* `list.__getitem__`, `dict.__getitem__`, `dict.items`\n",
    "* `len`\n",
    "* `isinstance`, `issubclass`\n",
    "* ...\n"
   ]
  },
  {
   "cell_type": "code",
   "execution_count": 1,
   "metadata": {},
   "outputs": [
    {
     "name": "stdout",
     "output_type": "stream",
     "text": [
      "library ieee;\n",
      "use ieee.std_logic_1164.all;\n",
      "use ieee.numeric_std.all;\n",
      "\n",
      "\n",
      "entity Intrinsics is\n",
      "  port (\n",
      "    inp_a : in std_logic_vector(3 downto 0);\n",
      "    inp_b : in std_logic_vector(3 downto 0);\n",
      "    output : out unsigned(7 downto 0)\n",
      "    );\n",
      "end Intrinsics;\n",
      "\n",
      "\n",
      "architecture arch_Intrinsics of Intrinsics is\n",
      "  function cohdl_bool_to_std_logic(inp: boolean) return std_logic is\n",
      "  begin\n",
      "    if inp then\n",
      "      return('1');\n",
      "    else\n",
      "      return('0');\n",
      "    end if;\n",
      "  end function cohdl_bool_to_std_logic;\n",
      "  signal buffer_output : unsigned(7 downto 0);\n",
      "  signal temp : std_logic_vector(1 downto 0);\n",
      "  signal temp_1 : std_logic_vector(1 downto 0);\n",
      "  signal temp_2 : std_logic_vector(1 downto 0);\n",
      "  signal temp_3 : std_logic_vector(1 downto 0);\n",
      "begin\n",
      "  \n",
      "  -- CONCURRENT BLOCK (buffer assignment)\n",
      "  output <= buffer_output;\n",
      "  \n",
      "  -- CONCURRENT BLOCK (interleave_logic)\n",
      "  temp <= (inp_a(0)) & (inp_b(0));\n",
      "  buffer_output(1 downto 0) <= unsigned(temp);\n",
      "  temp_1 <= (inp_a(1)) & (inp_b(1));\n",
      "  buffer_output(3 downto 2) <= unsigned(temp_1);\n",
      "  temp_2 <= (inp_a(2)) & (inp_b(2));\n",
      "  buffer_output(5 downto 4) <= unsigned(temp_2);\n",
      "  temp_3 <= (inp_a(3)) & (inp_b(3));\n",
      "  buffer_output(7 downto 6) <= unsigned(temp_3);\n",
      "end architecture arch_Intrinsics;\n"
     ]
    }
   ],
   "source": [
    "from cohdl import Entity, Port, Unsigned, BitVector\n",
    "from cohdl import std\n",
    "\n",
    "class Intrinsics(Entity):\n",
    "    inp_a = Port.input(BitVector[4])\n",
    "    inp_b = Port.input(BitVector[4])\n",
    "\n",
    "    output = Port.output(Unsigned[8])\n",
    "\n",
    "    def architecture(self):\n",
    "        @std.concurrent\n",
    "        def interleave_logic():\n",
    "            \n",
    "            # take pairs of input bits and assign them to consecutive output bits\n",
    "            for nr, (a, b) in enumerate(zip(self.inp_a, self.inp_b)):\n",
    "                # Since integer addition and multiplication are cohdl builtins\n",
    "                # they are evaluated at compile time and produce constant indices.\n",
    "                # The '@' operator is used for concatenation.\n",
    "                self.output[2*nr+1:2*nr] <<= a @ b\n",
    "\n",
    "\n",
    "print(std.VhdlCompiler.to_string(Intrinsics))"
   ]
  },
  {
   "attachments": {},
   "cell_type": "markdown",
   "metadata": {},
   "source": [
    "## consteval decorator\n",
    "\n",
    "The consteval decorator (named after the C++20 consteval keyword) turns user defined functions into CoHDL intrinsics. The decorator returns the function object unchanged. Internally it writes the functions id into a set of all intrinsics. The compiler checks that list before attempting to inspect the functions AST."
   ]
  },
  {
   "cell_type": "code",
   "execution_count": 2,
   "metadata": {},
   "outputs": [
    {
     "name": "stdout",
     "output_type": "stream",
     "text": [
      "library ieee;\n",
      "use ieee.std_logic_1164.all;\n",
      "use ieee.numeric_std.all;\n",
      "\n",
      "\n",
      "entity ConstevalExample is\n",
      "  port (\n",
      "    clk : in std_logic;\n",
      "    output : out unsigned(15 downto 0)\n",
      "    );\n",
      "end ConstevalExample;\n",
      "\n",
      "\n",
      "architecture arch_ConstevalExample of ConstevalExample is\n",
      "  function cohdl_bool_to_std_logic(inp: boolean) return std_logic is\n",
      "  begin\n",
      "    if inp then\n",
      "      return('1');\n",
      "    else\n",
      "      return('0');\n",
      "    end if;\n",
      "  end function cohdl_bool_to_std_logic;\n",
      "  signal buffer_output : unsigned(15 downto 0);\n",
      "begin\n",
      "  \n",
      "  -- CONCURRENT BLOCK (buffer assignment)\n",
      "  output <= buffer_output;\n",
      "  \n",
      "\n",
      "  logic: process(clk)\n",
      "  begin\n",
      "    if rising_edge(clk) then\n",
      "      buffer_output <= unsigned'(\"1010101010101010\");\n",
      "    end if;\n",
      "  end process;\n",
      "end architecture arch_ConstevalExample;\n"
     ]
    }
   ],
   "source": [
    "from cohdl import Entity, Port, Bit, Unsigned, consteval\n",
    "from cohdl import std\n",
    "\n",
    "@consteval\n",
    "def load_from_file(param_name):\n",
    "    # arbitrary python code\n",
    "    # ...\n",
    "\n",
    "    # dummy value used for example\n",
    "    return 0xAAAA\n",
    "\n",
    "class ConstevalExample(Entity):\n",
    "    clk = Port.input(Bit)\n",
    "\n",
    "    output = Port.output(Unsigned[16])\n",
    "\n",
    "    def architecture(self):\n",
    "        clk = std.Clock(self.clk)\n",
    "\n",
    "        @std.sequential(clk)\n",
    "        def logic():\n",
    "            self.output <<= load_from_file(\"my_param_name\")\n",
    "\n",
    "print(std.VhdlCompiler.to_string(ConstevalExample))"
   ]
  }
 ],
 "metadata": {
  "kernelspec": {
   "display_name": "cohdl_venv",
   "language": "python",
   "name": "python3"
  },
  "language_info": {
   "codemirror_mode": {
    "name": "ipython",
    "version": 3
   },
   "file_extension": ".py",
   "mimetype": "text/x-python",
   "name": "python",
   "nbconvert_exporter": "python",
   "pygments_lexer": "ipython3",
   "version": "3.11.4"
  },
  "orig_nbformat": 4,
  "vscode": {
   "interpreter": {
    "hash": "382de5f4f49c2aefd568eaa8cac1000c67ae8fef983dc014d1535fefa37c672c"
   }
  }
 },
 "nbformat": 4,
 "nbformat_minor": 2
}
