{
 "cells": [
  {
   "attachments": {},
   "cell_type": "markdown",
   "metadata": {},
   "source": [
    "# BitFields\n",
    "\n",
    "Because CoHDL implements vector slices as references, it is fairly easy to build abstraction layers, on top of the provided primitives. `cohdl.std` defined the `bitfield` decorator. It is applied to Python classes and provides convenient access to individual Bits or subvectors.\n",
    "\n",
    "Essentially it defines alias names for parts of BitVectors. There is nothing magic about this decorator. It could also be implemented in normal user code."
   ]
  },
  {
   "cell_type": "code",
   "execution_count": null,
   "metadata": {},
   "outputs": [],
   "source": [
    "from cohdl import std\n",
    "from cohdl.std.bitfield import bitfield, Field\n",
    "\n",
    "@bitfield\n",
    "class MyBitfield:\n",
    "    # use names a,b and c for bit at offset 0, 1 and 2\n",
    "    a: Field[0]\n",
    "    b: Field[1]\n",
    "    c: Field[2]\n",
    "\n",
    "    # low and high are subvectors\n",
    "    low: Field[15:0]\n",
    "    high: Field[31:16]\n",
    "\n",
    "    # fields can overlap and be Signed or Unsigned\n",
    "    mid: Field[24:8].Unsigned"
   ]
  },
  {
   "cell_type": "code",
   "execution_count": null,
   "metadata": {},
   "outputs": [],
   "source": [
    "from cohdl import Port, BitVector\n",
    "from cohdl import Entity\n",
    "\n",
    "class MyEntity(Entity):\n",
    "    data_in = Port.input(BitVector[32])\n",
    "    data_out = Port.output(BitVector[32])\n",
    "\n",
    "    def architecture(self):\n",
    "        # create bitfield objects from data ports\n",
    "        # this does not create any new signals\n",
    "        # the members of inp and out are references\n",
    "        # to bits/subvectors of self.data_in and self.data_out\n",
    "        inp = MyBitfield(self.data_in)\n",
    "        out = MyBitfield(self.data_out)\n",
    "\n",
    "        @std.sequential\n",
    "        def logic():\n",
    "            nonlocal out\n",
    "\n",
    "            if inp.a & inp.b & inp.c:\n",
    "                # swap low and high\n",
    "                out.low <<= inp.high\n",
    "                out.high <<= inp.low\n",
    "            elif inp.a:\n",
    "                # the bitfield decorator defines\n",
    "                # assignment operators\n",
    "                out <<= inp\n",
    "            else:\n",
    "                # out.mid is unsigned, can use arithmetic operators\n",
    "                out.mid <<= out.mid + 1\n",
    "\n",
    "\n",
    "vhdl = std.VhdlCompiler.to_string(MyEntity)\n",
    "print(vhdl)"
   ]
  }
 ],
 "metadata": {
  "kernelspec": {
   "display_name": "cohdl_venv",
   "language": "python",
   "name": "python3"
  },
  "language_info": {
   "codemirror_mode": {
    "name": "ipython",
    "version": 3
   },
   "file_extension": ".py",
   "mimetype": "text/x-python",
   "name": "python",
   "nbconvert_exporter": "python",
   "pygments_lexer": "ipython3",
   "version": "3.11.4"
  },
  "orig_nbformat": 4,
  "vscode": {
   "interpreter": {
    "hash": "382de5f4f49c2aefd568eaa8cac1000c67ae8fef983dc014d1535fefa37c672c"
   }
  }
 },
 "nbformat": 4,
 "nbformat_minor": 2
}
