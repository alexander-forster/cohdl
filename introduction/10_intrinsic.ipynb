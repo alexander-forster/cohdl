{
 "cells": [
  {
   "attachments": {},
   "cell_type": "markdown",
   "metadata": {},
   "source": [
    "# Intrinsic functions\n",
    "\n",
    "CoHDL translates function calls by inspecting the abstract syntax tree of the function definition. This is not possible for many Python builtin functions because they\n",
    "\n",
    "* use language constructs not supported by CoHDL\n",
    "* are implemented in C and not available as Python code\n",
    "\n",
    "Some of these functions are treated as CoHDL intrinsics. When intrinsic functions are encountered during compilation they are called with the given arguments and replaced with their return value. Since these functions are never traced by CoHDL they can contain arbitrary code. Intrinsics are a core mechanism for the CoHDL-Python interoperability, features made possible by them in synthesizable contexts include:\n",
    "\n",
    "* integer operators (`int.__add__`, `int.__gt__`, ...)\n",
    "* `range`, `zip`, `enumerate`\n",
    "* `list.__getitem__`, `dict.__getitem__`, `dict.items`\n",
    "* `len`\n",
    "* `isinstance`, `issubclass`\n",
    "* ...\n"
   ]
  },
  {
   "cell_type": "code",
   "execution_count": null,
   "metadata": {},
   "outputs": [],
   "source": [
    "from cohdl import Entity, Port, Unsigned, BitVector\n",
    "from cohdl import std\n",
    "\n",
    "class Intrinsics(Entity):\n",
    "    inp_a = Port.input(BitVector[4])\n",
    "    inp_b = Port.input(BitVector[4])\n",
    "\n",
    "    output = Port.output(Unsigned[8])\n",
    "\n",
    "    def architecture(self):\n",
    "        @std.concurrent\n",
    "        def interleave_logic():\n",
    "            \n",
    "            # take pairs of input bits and assign them to consecutive output bits\n",
    "            for nr, (a, b) in enumerate(zip(self.inp_a, self.inp_b)):\n",
    "                # Since integer addition and multiplication are cohdl builtins\n",
    "                # they are evaluated at compile time and produce constant indices.\n",
    "                # The '@' operator is used for concatenation.\n",
    "                self.output[2*nr+1:2*nr] <<= a @ b\n",
    "\n",
    "\n",
    "print(std.VhdlCompiler.to_string(Intrinsics))"
   ]
  },
  {
   "attachments": {},
   "cell_type": "markdown",
   "metadata": {},
   "source": [
    "## consteval decorator\n",
    "\n",
    "The consteval decorator (named after the C++20 consteval keyword) turns user defined functions into CoHDL intrinsics. The decorator returns the function object unchanged. Internally it writes the functions id into a set of all intrinsics. The compiler checks that list before attempting to inspect the functions AST."
   ]
  },
  {
   "cell_type": "code",
   "execution_count": null,
   "metadata": {},
   "outputs": [],
   "source": [
    "from cohdl import Entity, Port, Bit, Unsigned, consteval\n",
    "from cohdl import std\n",
    "\n",
    "@consteval\n",
    "def load_from_file(param_name):\n",
    "    # arbitrary python code\n",
    "    # ...\n",
    "\n",
    "    # dummy value used for example\n",
    "    return 0xAAAA\n",
    "\n",
    "class ConstevalExample(Entity):\n",
    "    clk = Port.input(Bit)\n",
    "\n",
    "    output = Port.output(Unsigned[16])\n",
    "\n",
    "    def architecture(self):\n",
    "        clk = std.Clock(self.clk)\n",
    "\n",
    "        @std.sequential(clk)\n",
    "        def logic():\n",
    "            self.output <<= load_from_file(\"my_param_name\")\n",
    "\n",
    "print(std.VhdlCompiler.to_string(ConstevalExample))"
   ]
  }
 ],
 "metadata": {
  "kernelspec": {
   "display_name": "cohdl_venv",
   "language": "python",
   "name": "python3"
  },
  "language_info": {
   "codemirror_mode": {
    "name": "ipython",
    "version": 3
   },
   "file_extension": ".py",
   "mimetype": "text/x-python",
   "name": "python",
   "nbconvert_exporter": "python",
   "pygments_lexer": "ipython3",
   "version": "3.11.1 (main, Dec  7 2022, 00:00:00) [GCC 12.2.1 20221121 (Red Hat 12.2.1-4)]"
  },
  "orig_nbformat": 4,
  "vscode": {
   "interpreter": {
    "hash": "382de5f4f49c2aefd568eaa8cac1000c67ae8fef983dc014d1535fefa37c672c"
   }
  }
 },
 "nbformat": 4,
 "nbformat_minor": 2
}
