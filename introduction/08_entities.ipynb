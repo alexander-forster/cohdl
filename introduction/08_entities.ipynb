{
 "cells": [
  {
   "attachments": {},
   "cell_type": "markdown",
   "metadata": {},
   "source": [
    "# Using entities to structure code and integrate existing VHDL designs"
   ]
  },
  {
   "attachments": {},
   "cell_type": "markdown",
   "metadata": {},
   "source": [
    "## instantiating entities\n",
    "\n",
    "CoHDL designs can be made up of more than one entity.\n",
    "\n",
    "* each entity is compiled once into a VHDL entity which is then instantiated\n",
    "* entities are limited to ports, functions and classes are more flexible and can take arbitrary Python objects as arguments\n",
    "* external entities provide an interface to instantiate existing VHDL designs\n",
    "\n",
    "Since Python classes and functions are also available it is usually not necessary to use entities to structure code."
   ]
  },
  {
   "cell_type": "code",
   "execution_count": null,
   "metadata": {},
   "outputs": [],
   "source": [
    "from __future__ import annotations\n",
    "\n",
    "from cohdl import Entity, Port, Bit\n",
    "from cohdl import std\n",
    "\n",
    "class Inverter(Entity):\n",
    "    input = Port.input(Bit)\n",
    "    output = Port.output(Bit)\n",
    "\n",
    "    def architecture(self):\n",
    "        @std.concurrent\n",
    "        def logic():\n",
    "            self.output <<= ~self.input\n",
    "\n",
    "# the top level entity of this design\n",
    "# used made up of two instances of Inverter\n",
    "class UseInverters(Entity):\n",
    "    inp_a = Port.input(Bit)\n",
    "    out_a = Port.output(Bit)\n",
    "    \n",
    "    inp_b = Port.input(Bit)\n",
    "    out_b = Port.output(Bit)\n",
    "\n",
    "    def architecture(self):\n",
    "        # entities are instantiated by passing all ports\n",
    "        # as keyword parameters to the class constructor\n",
    "        Inverter(input=self.inp_a, output=self.out_a)\n",
    "        \n",
    "        Inverter(input=self.inp_b, output=self.out_b)\n",
    "\n",
    "print(std.VhdlCompiler.to_string(UseInverters))"
   ]
  },
  {
   "attachments": {},
   "cell_type": "markdown",
   "metadata": {},
   "source": [
    "## external entities\n",
    "\n",
    "Entities can be marked as external to import VHDL entities into CoHDL designs.\n"
   ]
  },
  {
   "cell_type": "code",
   "execution_count": null,
   "metadata": {},
   "outputs": [],
   "source": [
    "from __future__ import annotations\n",
    "\n",
    "from cohdl import Entity, Port, Bit\n",
    "from cohdl import std\n",
    "\n",
    "# declaration of some entity that is defined\n",
    "# in vhdl\n",
    "class MyVhdlInverter(Entity, extern=True):\n",
    "    input = Port.input(Bit)\n",
    "    output = Port.output(Bit)\n",
    "\n",
    "    # external entities have no architecture method\n",
    "    # they only define ports so CoHDL can generate the\n",
    "    # corresponding entity instantiations\n",
    "\n",
    "class UseInverters(Entity):\n",
    "    inp_a = Port.input(Bit)\n",
    "    out_a = Port.output(Bit)\n",
    "    \n",
    "    inp_b = Port.input(Bit)\n",
    "    out_b = Port.output(Bit)\n",
    "\n",
    "    def architecture(self):\n",
    "        # instantiating external entities works the same\n",
    "        # way as normal CoHDL entities\n",
    "        MyVhdlInverter(input=self.inp_a, output=self.out_a)\n",
    "        MyVhdlInverter(input=self.inp_b, output=self.out_b)\n",
    "\n",
    "print(std.VhdlCompiler.to_string(UseInverters))"
   ]
  }
 ],
 "metadata": {
  "kernelspec": {
   "display_name": "cohdl_venv",
   "language": "python",
   "name": "python3"
  },
  "language_info": {
   "codemirror_mode": {
    "name": "ipython",
    "version": 3
   },
   "file_extension": ".py",
   "mimetype": "text/x-python",
   "name": "python",
   "nbconvert_exporter": "python",
   "pygments_lexer": "ipython3",
   "version": "3.11.1"
  },
  "orig_nbformat": 4,
  "vscode": {
   "interpreter": {
    "hash": "382de5f4f49c2aefd568eaa8cac1000c67ae8fef983dc014d1535fefa37c672c"
   }
  }
 },
 "nbformat": 4,
 "nbformat_minor": 2
}
