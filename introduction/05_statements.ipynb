{
 "cells": [
  {
   "attachments": {},
   "cell_type": "markdown",
   "metadata": {},
   "source": [
    "# Basic statements\n",
    "\n",
    "This section covers the basic Python language constructs supported in synthesizable contexts. Other statements like the allowed operators, function calls and the coroutine utilities `async`, `await` and `while` are described in separate notebooks."
   ]
  },
  {
   "attachments": {},
   "cell_type": "markdown",
   "metadata": {},
   "source": [
    "---\n",
    "## if statement\n",
    "\n",
    "How CoHDL translates if statements depends on their condition:\n",
    "\n",
    "* condition is a type qualified object\n",
    "\n",
    "    CoHDL produces a VHDL if statement. This is only possible in sequential contexts.\n",
    "* otherwise\n",
    "\n",
    "    All other objects are considered constants. CoHDL translates only the active branch and ignores the other one. This is similar to VHDLs if generate and allowed in all contexts.\n"
   ]
  },
  {
   "cell_type": "code",
   "execution_count": null,
   "metadata": {},
   "outputs": [],
   "source": [
    "from cohdl import Bit, BitVector, Port, Entity\n",
    "from cohdl import std\n",
    "\n",
    "class ExampleIf(Entity):\n",
    "    select_a = Port.input(Bit)\n",
    "\n",
    "    a = Port.input(BitVector[4])\n",
    "    b = Port.input(BitVector[4])\n",
    "\n",
    "    result = Port.output(BitVector[4])\n",
    "\n",
    "    def architecture(self):\n",
    "        invert = True\n",
    "\n",
    "        @std.sequential\n",
    "        def proc_select():\n",
    "            # Since 'invert' is not a Signal, Variable or Temporary this\n",
    "            # if is evaluated at compile time. Only one branch\n",
    "            # will show up in the generated VHDL.\n",
    "            if invert:\n",
    "                # The condition of the inner if statement is runtime variable\n",
    "                # and thus translated into a VHDL if statement. This is only\n",
    "                # possible in sequential contexts.\n",
    "                if self.select_a:\n",
    "                    self.result <<= self.a\n",
    "                else:\n",
    "                    self.result <<= self.b\n",
    "            else:\n",
    "                if self.select_a:\n",
    "                    self.result <<= self.b\n",
    "                else:\n",
    "                    self.result <<= self.a\n",
    "\n",
    "print(std.VhdlCompiler.to_string(ExampleIf))"
   ]
  },
  {
   "attachments": {},
   "cell_type": "markdown",
   "metadata": {},
   "source": [
    "---\n",
    "## if expression\n",
    "\n",
    "If expressions are supported in both concurrent and sequential contexts. Like the ternary operator (`cond ? a : b`) known from C, they select one of two arguments based on a condition."
   ]
  },
  {
   "cell_type": "code",
   "execution_count": null,
   "metadata": {},
   "outputs": [],
   "source": [
    "from cohdl import Bit, BitVector, Port, Entity\n",
    "from cohdl import std\n",
    "\n",
    "class ExampleIfExpr(Entity):\n",
    "    select_a = Port.input(Bit)\n",
    "    select_b = Port.input(Bit)\n",
    "\n",
    "    a = Port.input(BitVector[4])\n",
    "    b = Port.input(BitVector[4])\n",
    "    c = Port.input(BitVector[4])\n",
    "\n",
    "    result_1 = Port.output(BitVector[4])\n",
    "    result_2 = Port.output(BitVector[4])\n",
    "\n",
    "    def architecture(self):\n",
    "        @std.concurrent\n",
    "        def logic_single():\n",
    "            self.result_1 <<= self.a if self.select_a else self.b\n",
    "        \n",
    "        @std.sequential\n",
    "        def logic_nested():\n",
    "            self.result_2 <<= self.a if self.select_a else self.b if self.select_b else self.c\n",
    "\n",
    "print(std.VhdlCompiler.to_string(ExampleIfExpr))"
   ]
  },
  {
   "attachments": {},
   "cell_type": "markdown",
   "metadata": {},
   "source": [
    "---\n",
    "## select_with\n",
    "\n",
    "CoHDL provides a magic builtin function `select_with` to choose one of multiple options based on a single selector input."
   ]
  },
  {
   "cell_type": "code",
   "execution_count": null,
   "metadata": {},
   "outputs": [],
   "source": [
    "from cohdl import select_with, BitVector, Port, Entity\n",
    "from cohdl import std\n",
    "\n",
    "class ExampleSelect(Entity):\n",
    "    selector = Port.input(BitVector[2])\n",
    "\n",
    "    a = Port.input(BitVector[4])\n",
    "    b = Port.input(BitVector[4])\n",
    "    c = Port.input(BitVector[4])\n",
    "    d = Port.input(BitVector[4])\n",
    "\n",
    "    result = Port.output(BitVector[4])\n",
    "\n",
    "    def architecture(self):\n",
    "        @std.concurrent\n",
    "        def select_output():\n",
    "            # choose one of the inputs based on the current state of `selector`\n",
    "            # and assign it to the result\n",
    "            # the different inputs are provided as a dictionary\n",
    "            self.result <<= select_with(\n",
    "                self.selector,\n",
    "                {\n",
    "                    \"00\": self.a,\n",
    "                    \"01\": self.b,\n",
    "                    \"10\": self.c,\n",
    "                    \"11\": self.d\n",
    "                },\n",
    "                # default=\"0000\" # optional default state\n",
    "            )\n",
    "\n",
    "\n",
    "print(std.VhdlCompiler.to_string(ExampleSelect))"
   ]
  },
  {
   "attachments": {},
   "cell_type": "markdown",
   "metadata": {},
   "source": [
    "---\n",
    "## for loops\n",
    "\n",
    "For loops are unrolled at compile time."
   ]
  },
  {
   "cell_type": "code",
   "execution_count": null,
   "metadata": {},
   "outputs": [],
   "source": [
    "from cohdl import BitVector, Port, Entity\n",
    "from cohdl import std\n",
    "\n",
    "class ExampleFor(Entity):\n",
    "    input_a = Port.input(BitVector[4])\n",
    "    input_b = Port.input(BitVector[4])\n",
    "\n",
    "    result = Port.output(BitVector[8])\n",
    "\n",
    "    def architecture(self):\n",
    "        @std.concurrent\n",
    "        def example_range():\n",
    "            for index in range(8):\n",
    "                if index % 2 == 0:\n",
    "                    self.result[index] <<= self.input_a[index // 2]\n",
    "                else:\n",
    "                    self.result[index] <<= self.input_b[index // 2]\n",
    "\n",
    "\n",
    "print(std.VhdlCompiler.to_string(ExampleFor))"
   ]
  },
  {
   "attachments": {},
   "cell_type": "markdown",
   "metadata": {},
   "source": [
    "Since CoHDL is not limited by VHDLs for loop capability, it can support a broad range of iterables including those returned by `enumerate` or `zip`."
   ]
  },
  {
   "cell_type": "code",
   "execution_count": null,
   "metadata": {},
   "outputs": [],
   "source": [
    "from cohdl import BitVector, Port, Entity\n",
    "from cohdl import std\n",
    "\n",
    "class ExampleFor(Entity):\n",
    "    a = Port.input(Bit)\n",
    "    b = Port.input(Bit)\n",
    "    c = Port.input(Bit)\n",
    "\n",
    "    result = Port.output(BitVector[3])\n",
    "\n",
    "    def architecture(self):\n",
    "        inputs = [self.a, self.b, self.c]\n",
    "\n",
    "        @std.concurrent\n",
    "        def example_enumerate():\n",
    "            # iterate over a list containing the three inputs\n",
    "            # and assign them to the corresponding output bit\n",
    "            for nr, input in enumerate(inputs):\n",
    "                self.result[nr] <<= input\n",
    "\n",
    "\n",
    "print(std.VhdlCompiler.to_string(ExampleFor))"
   ]
  },
  {
   "cell_type": "code",
   "execution_count": null,
   "metadata": {},
   "outputs": [],
   "source": [
    "from cohdl import BitVector, Port, Entity\n",
    "from cohdl import std\n",
    "\n",
    "class ExampleFor(Entity):\n",
    "    a = Port.input(Bit)\n",
    "    b = Port.input(Bit)\n",
    "    c = Port.input(Bit)\n",
    "\n",
    "    result = Port.output(BitVector[3])\n",
    "\n",
    "    def architecture(self):\n",
    "        inputs = [self.a, self.b, self.c]\n",
    "\n",
    "        @std.concurrent\n",
    "        def example_zip():\n",
    "            # equivalent to the previous example\n",
    "            # iterate over pairs of input and output bits\n",
    "            # instead of using an index\n",
    "            for output, input in zip(self.result, inputs):\n",
    "                output <<= input\n",
    "\n",
    "\n",
    "print(std.VhdlCompiler.to_string(ExampleFor))"
   ]
  },
  {
   "attachments": {},
   "cell_type": "markdown",
   "metadata": {},
   "source": [
    "---\n",
    "## for loops - special case\n",
    "\n",
    "CoHDL defines one special type of for loops. When the loop body consists of a single if-statements that ends in a break, the loop is not simply unrolled but turned into a chain of if-else-statements. This follows the expected Python behavior - only the first iteration with a true condition is executed.\n",
    "\n",
    "This is the only construct where break statements are allowed in for loops. It is also the only way to use Pythons for-else clause to provide an optional fallback that will be placed in the innermost else branch.\n",
    "\n",
    "The following code block demonstrates this on a simple entity. However, the initial motivation for this feature where more complex designs. For example a bus interconnect can iterate over a list of connected devices, select one based on an address and perform some device specific operation."
   ]
  },
  {
   "cell_type": "code",
   "execution_count": null,
   "metadata": {},
   "outputs": [],
   "source": [
    "from cohdl import BitVector, Port, Entity\n",
    "from cohdl import std\n",
    "\n",
    "class ExampleFor(Entity):\n",
    "    input = Port.input(BitVector[4])\n",
    "    output = Port.output(BitVector[4])\n",
    "\n",
    "    def architecture(self):\n",
    "        @std.sequential\n",
    "        def example_for():\n",
    "            self.output <<= \"0000\"\n",
    "\n",
    "            for nr, inp in enumerate(self.input):\n",
    "                # set the corresponding output bit\n",
    "                # for the first high input bit\n",
    "                if inp:\n",
    "                    self.output[nr] <<= \"1\"\n",
    "                    break\n",
    "            else:\n",
    "                # optional else case used when break is encountered (all inputs low)\n",
    "                self.output <<= \"1111\"\n",
    "\n",
    "print(std.VhdlCompiler.to_string(ExampleFor))"
   ]
  },
  {
   "attachments": {},
   "cell_type": "markdown",
   "metadata": {},
   "source": [
    "---\n",
    "## assertions\n",
    "\n",
    "CoHDL attempts to check Python assertions at compile time and generates VHDL assertions if that is not possible"
   ]
  },
  {
   "cell_type": "code",
   "execution_count": null,
   "metadata": {},
   "outputs": [],
   "source": [
    "from cohdl import BitVector, Port, Entity, static_assert\n",
    "from cohdl import std\n",
    "\n",
    "class ExampleAssert(Entity):\n",
    "    input = Port.input(BitVector[4])\n",
    "    output = Port.output(BitVector[4])\n",
    "\n",
    "    def architecture(self):\n",
    "        @std.sequential\n",
    "        def example_for():\n",
    "            # assertions with runtime variable conditions are translated into\n",
    "            # vhdl assertions\n",
    "            assert self.input != \"0110\", \"runtime assertion\"\n",
    "\n",
    "            # assertions with runtime constant conditions are evaluated by the\n",
    "            # compiler (similar to C++ static_assert)\n",
    "            assert self.input.width == 4, \"constant assertion ok\"\n",
    "\n",
    "            # alternatively you can use the builtin static_assert\n",
    "            # that is always evaluated at compile time and never present\n",
    "            # in the generated vhdl\n",
    "            static_assert(self.input.width == 4, \"constant assertion ok\")\n",
    "\n",
    "print(std.VhdlCompiler.to_string(ExampleAssert))"
   ]
  }
 ],
 "metadata": {
  "kernelspec": {
   "display_name": "cohdl_venv",
   "language": "python",
   "name": "python3"
  },
  "language_info": {
   "codemirror_mode": {
    "name": "ipython",
    "version": 3
   },
   "file_extension": ".py",
   "mimetype": "text/x-python",
   "name": "python",
   "nbconvert_exporter": "python",
   "pygments_lexer": "ipython3",
   "version": "3.11.1 (main, Dec  7 2022, 00:00:00) [GCC 12.2.1 20221121 (Red Hat 12.2.1-4)]"
  },
  "orig_nbformat": 4,
  "vscode": {
   "interpreter": {
    "hash": "382de5f4f49c2aefd568eaa8cac1000c67ae8fef983dc014d1535fefa37c672c"
   }
  }
 },
 "nbformat": 4,
 "nbformat_minor": 2
}
